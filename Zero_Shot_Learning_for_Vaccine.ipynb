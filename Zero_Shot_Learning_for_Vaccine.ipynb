{
  "nbformat": 4,
  "nbformat_minor": 0,
  "metadata": {
    "colab": {
      "name": "Zero_Shot_Learning for Vaccine.ipynb",
      "provenance": [],
      "collapsed_sections": [],
      "toc_visible": true,
      "include_colab_link": true
    },
    "kernelspec": {
      "name": "python3",
      "display_name": "Python 3"
    },
    "widgets": {
      "application/vnd.jupyter.widget-state+json": {
        "ce04a1026b4946498b874c0f6741fccb": {
          "model_module": "@jupyter-widgets/controls",
          "model_name": "HBoxModel",
          "state": {
            "_view_name": "HBoxView",
            "_dom_classes": [],
            "_model_name": "HBoxModel",
            "_view_module": "@jupyter-widgets/controls",
            "_model_module_version": "1.5.0",
            "_view_count": null,
            "_view_module_version": "1.5.0",
            "box_style": "",
            "layout": "IPY_MODEL_64e4cd983301495d9d73c7a3f697d2d5",
            "_model_module": "@jupyter-widgets/controls",
            "children": [
              "IPY_MODEL_4c261581ebc244878bb234b471b21592",
              "IPY_MODEL_556fd6f7baa24131ade90173e30cfd1c"
            ]
          }
        },
        "64e4cd983301495d9d73c7a3f697d2d5": {
          "model_module": "@jupyter-widgets/base",
          "model_name": "LayoutModel",
          "state": {
            "_view_name": "LayoutView",
            "grid_template_rows": null,
            "right": null,
            "justify_content": null,
            "_view_module": "@jupyter-widgets/base",
            "overflow": null,
            "_model_module_version": "1.2.0",
            "_view_count": null,
            "flex_flow": null,
            "width": null,
            "min_width": null,
            "border": null,
            "align_items": null,
            "bottom": null,
            "_model_module": "@jupyter-widgets/base",
            "top": null,
            "grid_column": null,
            "overflow_y": null,
            "overflow_x": null,
            "grid_auto_flow": null,
            "grid_area": null,
            "grid_template_columns": null,
            "flex": null,
            "_model_name": "LayoutModel",
            "justify_items": null,
            "grid_row": null,
            "max_height": null,
            "align_content": null,
            "visibility": null,
            "align_self": null,
            "height": null,
            "min_height": null,
            "padding": null,
            "grid_auto_rows": null,
            "grid_gap": null,
            "max_width": null,
            "order": null,
            "_view_module_version": "1.2.0",
            "grid_template_areas": null,
            "object_position": null,
            "object_fit": null,
            "grid_auto_columns": null,
            "margin": null,
            "display": null,
            "left": null
          }
        },
        "4c261581ebc244878bb234b471b21592": {
          "model_module": "@jupyter-widgets/controls",
          "model_name": "FloatProgressModel",
          "state": {
            "_view_name": "ProgressView",
            "style": "IPY_MODEL_95a4e79499934c68855aef34766ff450",
            "_dom_classes": [],
            "description": "Downloading: 100%",
            "_model_name": "FloatProgressModel",
            "bar_style": "success",
            "max": 385,
            "_view_module": "@jupyter-widgets/controls",
            "_model_module_version": "1.5.0",
            "value": 385,
            "_view_count": null,
            "_view_module_version": "1.5.0",
            "orientation": "horizontal",
            "min": 0,
            "description_tooltip": null,
            "_model_module": "@jupyter-widgets/controls",
            "layout": "IPY_MODEL_bf094a64973e43f49d1b17e7ae3a2f3f"
          }
        },
        "556fd6f7baa24131ade90173e30cfd1c": {
          "model_module": "@jupyter-widgets/controls",
          "model_name": "HTMLModel",
          "state": {
            "_view_name": "HTMLView",
            "style": "IPY_MODEL_5e901ac1b25244958553dd7ee44e10f3",
            "_dom_classes": [],
            "description": "",
            "_model_name": "HTMLModel",
            "placeholder": "​",
            "_view_module": "@jupyter-widgets/controls",
            "_model_module_version": "1.5.0",
            "value": " 385/385 [00:01&lt;00:00, 363B/s]",
            "_view_count": null,
            "_view_module_version": "1.5.0",
            "description_tooltip": null,
            "_model_module": "@jupyter-widgets/controls",
            "layout": "IPY_MODEL_22d07f541db944c0bf399b91ce05a6da"
          }
        },
        "95a4e79499934c68855aef34766ff450": {
          "model_module": "@jupyter-widgets/controls",
          "model_name": "ProgressStyleModel",
          "state": {
            "_view_name": "StyleView",
            "_model_name": "ProgressStyleModel",
            "description_width": "initial",
            "_view_module": "@jupyter-widgets/base",
            "_model_module_version": "1.5.0",
            "_view_count": null,
            "_view_module_version": "1.2.0",
            "bar_color": null,
            "_model_module": "@jupyter-widgets/controls"
          }
        },
        "bf094a64973e43f49d1b17e7ae3a2f3f": {
          "model_module": "@jupyter-widgets/base",
          "model_name": "LayoutModel",
          "state": {
            "_view_name": "LayoutView",
            "grid_template_rows": null,
            "right": null,
            "justify_content": null,
            "_view_module": "@jupyter-widgets/base",
            "overflow": null,
            "_model_module_version": "1.2.0",
            "_view_count": null,
            "flex_flow": null,
            "width": null,
            "min_width": null,
            "border": null,
            "align_items": null,
            "bottom": null,
            "_model_module": "@jupyter-widgets/base",
            "top": null,
            "grid_column": null,
            "overflow_y": null,
            "overflow_x": null,
            "grid_auto_flow": null,
            "grid_area": null,
            "grid_template_columns": null,
            "flex": null,
            "_model_name": "LayoutModel",
            "justify_items": null,
            "grid_row": null,
            "max_height": null,
            "align_content": null,
            "visibility": null,
            "align_self": null,
            "height": null,
            "min_height": null,
            "padding": null,
            "grid_auto_rows": null,
            "grid_gap": null,
            "max_width": null,
            "order": null,
            "_view_module_version": "1.2.0",
            "grid_template_areas": null,
            "object_position": null,
            "object_fit": null,
            "grid_auto_columns": null,
            "margin": null,
            "display": null,
            "left": null
          }
        },
        "5e901ac1b25244958553dd7ee44e10f3": {
          "model_module": "@jupyter-widgets/controls",
          "model_name": "DescriptionStyleModel",
          "state": {
            "_view_name": "StyleView",
            "_model_name": "DescriptionStyleModel",
            "description_width": "",
            "_view_module": "@jupyter-widgets/base",
            "_model_module_version": "1.5.0",
            "_view_count": null,
            "_view_module_version": "1.2.0",
            "_model_module": "@jupyter-widgets/controls"
          }
        },
        "22d07f541db944c0bf399b91ce05a6da": {
          "model_module": "@jupyter-widgets/base",
          "model_name": "LayoutModel",
          "state": {
            "_view_name": "LayoutView",
            "grid_template_rows": null,
            "right": null,
            "justify_content": null,
            "_view_module": "@jupyter-widgets/base",
            "overflow": null,
            "_model_module_version": "1.2.0",
            "_view_count": null,
            "flex_flow": null,
            "width": null,
            "min_width": null,
            "border": null,
            "align_items": null,
            "bottom": null,
            "_model_module": "@jupyter-widgets/base",
            "top": null,
            "grid_column": null,
            "overflow_y": null,
            "overflow_x": null,
            "grid_auto_flow": null,
            "grid_area": null,
            "grid_template_columns": null,
            "flex": null,
            "_model_name": "LayoutModel",
            "justify_items": null,
            "grid_row": null,
            "max_height": null,
            "align_content": null,
            "visibility": null,
            "align_self": null,
            "height": null,
            "min_height": null,
            "padding": null,
            "grid_auto_rows": null,
            "grid_gap": null,
            "max_width": null,
            "order": null,
            "_view_module_version": "1.2.0",
            "grid_template_areas": null,
            "object_position": null,
            "object_fit": null,
            "grid_auto_columns": null,
            "margin": null,
            "display": null,
            "left": null
          }
        },
        "f8a0c0f3794b4e4283313fb24d239418": {
          "model_module": "@jupyter-widgets/controls",
          "model_name": "HBoxModel",
          "state": {
            "_view_name": "HBoxView",
            "_dom_classes": [],
            "_model_name": "HBoxModel",
            "_view_module": "@jupyter-widgets/controls",
            "_model_module_version": "1.5.0",
            "_view_count": null,
            "_view_module_version": "1.5.0",
            "box_style": "",
            "layout": "IPY_MODEL_008e3b99967749dda334461c46a8258f",
            "_model_module": "@jupyter-widgets/controls",
            "children": [
              "IPY_MODEL_dc8c8662cd1b4d6294689dbf474f3a7d",
              "IPY_MODEL_a9aa07c4bd8141b4b80c63f8ce81d5f5"
            ]
          }
        },
        "008e3b99967749dda334461c46a8258f": {
          "model_module": "@jupyter-widgets/base",
          "model_name": "LayoutModel",
          "state": {
            "_view_name": "LayoutView",
            "grid_template_rows": null,
            "right": null,
            "justify_content": null,
            "_view_module": "@jupyter-widgets/base",
            "overflow": null,
            "_model_module_version": "1.2.0",
            "_view_count": null,
            "flex_flow": null,
            "width": null,
            "min_width": null,
            "border": null,
            "align_items": null,
            "bottom": null,
            "_model_module": "@jupyter-widgets/base",
            "top": null,
            "grid_column": null,
            "overflow_y": null,
            "overflow_x": null,
            "grid_auto_flow": null,
            "grid_area": null,
            "grid_template_columns": null,
            "flex": null,
            "_model_name": "LayoutModel",
            "justify_items": null,
            "grid_row": null,
            "max_height": null,
            "align_content": null,
            "visibility": null,
            "align_self": null,
            "height": null,
            "min_height": null,
            "padding": null,
            "grid_auto_rows": null,
            "grid_gap": null,
            "max_width": null,
            "order": null,
            "_view_module_version": "1.2.0",
            "grid_template_areas": null,
            "object_position": null,
            "object_fit": null,
            "grid_auto_columns": null,
            "margin": null,
            "display": null,
            "left": null
          }
        },
        "dc8c8662cd1b4d6294689dbf474f3a7d": {
          "model_module": "@jupyter-widgets/controls",
          "model_name": "FloatProgressModel",
          "state": {
            "_view_name": "ProgressView",
            "style": "IPY_MODEL_e50fc6efcfcd4837a5cd1dd53ba03a4c",
            "_dom_classes": [],
            "description": "Downloading: 100%",
            "_model_name": "FloatProgressModel",
            "bar_style": "success",
            "max": 231508,
            "_view_module": "@jupyter-widgets/controls",
            "_model_module_version": "1.5.0",
            "value": 231508,
            "_view_count": null,
            "_view_module_version": "1.5.0",
            "orientation": "horizontal",
            "min": 0,
            "description_tooltip": null,
            "_model_module": "@jupyter-widgets/controls",
            "layout": "IPY_MODEL_50fd5b8b80ff472585a1d79cdad6f82a"
          }
        },
        "a9aa07c4bd8141b4b80c63f8ce81d5f5": {
          "model_module": "@jupyter-widgets/controls",
          "model_name": "HTMLModel",
          "state": {
            "_view_name": "HTMLView",
            "style": "IPY_MODEL_5336359d085444fe900e1b138808cab8",
            "_dom_classes": [],
            "description": "",
            "_model_name": "HTMLModel",
            "placeholder": "​",
            "_view_module": "@jupyter-widgets/controls",
            "_model_module_version": "1.5.0",
            "value": " 232k/232k [00:00&lt;00:00, 292kB/s]",
            "_view_count": null,
            "_view_module_version": "1.5.0",
            "description_tooltip": null,
            "_model_module": "@jupyter-widgets/controls",
            "layout": "IPY_MODEL_366319b2eaf54b77b2e83ba6e3153cae"
          }
        },
        "e50fc6efcfcd4837a5cd1dd53ba03a4c": {
          "model_module": "@jupyter-widgets/controls",
          "model_name": "ProgressStyleModel",
          "state": {
            "_view_name": "StyleView",
            "_model_name": "ProgressStyleModel",
            "description_width": "initial",
            "_view_module": "@jupyter-widgets/base",
            "_model_module_version": "1.5.0",
            "_view_count": null,
            "_view_module_version": "1.2.0",
            "bar_color": null,
            "_model_module": "@jupyter-widgets/controls"
          }
        },
        "50fd5b8b80ff472585a1d79cdad6f82a": {
          "model_module": "@jupyter-widgets/base",
          "model_name": "LayoutModel",
          "state": {
            "_view_name": "LayoutView",
            "grid_template_rows": null,
            "right": null,
            "justify_content": null,
            "_view_module": "@jupyter-widgets/base",
            "overflow": null,
            "_model_module_version": "1.2.0",
            "_view_count": null,
            "flex_flow": null,
            "width": null,
            "min_width": null,
            "border": null,
            "align_items": null,
            "bottom": null,
            "_model_module": "@jupyter-widgets/base",
            "top": null,
            "grid_column": null,
            "overflow_y": null,
            "overflow_x": null,
            "grid_auto_flow": null,
            "grid_area": null,
            "grid_template_columns": null,
            "flex": null,
            "_model_name": "LayoutModel",
            "justify_items": null,
            "grid_row": null,
            "max_height": null,
            "align_content": null,
            "visibility": null,
            "align_self": null,
            "height": null,
            "min_height": null,
            "padding": null,
            "grid_auto_rows": null,
            "grid_gap": null,
            "max_width": null,
            "order": null,
            "_view_module_version": "1.2.0",
            "grid_template_areas": null,
            "object_position": null,
            "object_fit": null,
            "grid_auto_columns": null,
            "margin": null,
            "display": null,
            "left": null
          }
        },
        "5336359d085444fe900e1b138808cab8": {
          "model_module": "@jupyter-widgets/controls",
          "model_name": "DescriptionStyleModel",
          "state": {
            "_view_name": "StyleView",
            "_model_name": "DescriptionStyleModel",
            "description_width": "",
            "_view_module": "@jupyter-widgets/base",
            "_model_module_version": "1.5.0",
            "_view_count": null,
            "_view_module_version": "1.2.0",
            "_model_module": "@jupyter-widgets/controls"
          }
        },
        "366319b2eaf54b77b2e83ba6e3153cae": {
          "model_module": "@jupyter-widgets/base",
          "model_name": "LayoutModel",
          "state": {
            "_view_name": "LayoutView",
            "grid_template_rows": null,
            "right": null,
            "justify_content": null,
            "_view_module": "@jupyter-widgets/base",
            "overflow": null,
            "_model_module_version": "1.2.0",
            "_view_count": null,
            "flex_flow": null,
            "width": null,
            "min_width": null,
            "border": null,
            "align_items": null,
            "bottom": null,
            "_model_module": "@jupyter-widgets/base",
            "top": null,
            "grid_column": null,
            "overflow_y": null,
            "overflow_x": null,
            "grid_auto_flow": null,
            "grid_area": null,
            "grid_template_columns": null,
            "flex": null,
            "_model_name": "LayoutModel",
            "justify_items": null,
            "grid_row": null,
            "max_height": null,
            "align_content": null,
            "visibility": null,
            "align_self": null,
            "height": null,
            "min_height": null,
            "padding": null,
            "grid_auto_rows": null,
            "grid_gap": null,
            "max_width": null,
            "order": null,
            "_view_module_version": "1.2.0",
            "grid_template_areas": null,
            "object_position": null,
            "object_fit": null,
            "grid_auto_columns": null,
            "margin": null,
            "display": null,
            "left": null
          }
        },
        "953b5c7e47a8422d82786d7c59bd13ad": {
          "model_module": "@jupyter-widgets/controls",
          "model_name": "HBoxModel",
          "state": {
            "_view_name": "HBoxView",
            "_dom_classes": [],
            "_model_name": "HBoxModel",
            "_view_module": "@jupyter-widgets/controls",
            "_model_module_version": "1.5.0",
            "_view_count": null,
            "_view_module_version": "1.5.0",
            "box_style": "",
            "layout": "IPY_MODEL_71499a82d4c7458498bc1074eebc7492",
            "_model_module": "@jupyter-widgets/controls",
            "children": [
              "IPY_MODEL_78453a8b733b40dfbf789579dd0f28ef",
              "IPY_MODEL_ae33e7deb0e942668e9fb7015b1f9eed"
            ]
          }
        },
        "71499a82d4c7458498bc1074eebc7492": {
          "model_module": "@jupyter-widgets/base",
          "model_name": "LayoutModel",
          "state": {
            "_view_name": "LayoutView",
            "grid_template_rows": null,
            "right": null,
            "justify_content": null,
            "_view_module": "@jupyter-widgets/base",
            "overflow": null,
            "_model_module_version": "1.2.0",
            "_view_count": null,
            "flex_flow": null,
            "width": null,
            "min_width": null,
            "border": null,
            "align_items": null,
            "bottom": null,
            "_model_module": "@jupyter-widgets/base",
            "top": null,
            "grid_column": null,
            "overflow_y": null,
            "overflow_x": null,
            "grid_auto_flow": null,
            "grid_area": null,
            "grid_template_columns": null,
            "flex": null,
            "_model_name": "LayoutModel",
            "justify_items": null,
            "grid_row": null,
            "max_height": null,
            "align_content": null,
            "visibility": null,
            "align_self": null,
            "height": null,
            "min_height": null,
            "padding": null,
            "grid_auto_rows": null,
            "grid_gap": null,
            "max_width": null,
            "order": null,
            "_view_module_version": "1.2.0",
            "grid_template_areas": null,
            "object_position": null,
            "object_fit": null,
            "grid_auto_columns": null,
            "margin": null,
            "display": null,
            "left": null
          }
        },
        "78453a8b733b40dfbf789579dd0f28ef": {
          "model_module": "@jupyter-widgets/controls",
          "model_name": "FloatProgressModel",
          "state": {
            "_view_name": "ProgressView",
            "style": "IPY_MODEL_8d43afe7637043de9d50c3a7b009c37c",
            "_dom_classes": [],
            "description": "Downloading: 100%",
            "_model_name": "FloatProgressModel",
            "bar_style": "success",
            "max": 2,
            "_view_module": "@jupyter-widgets/controls",
            "_model_module_version": "1.5.0",
            "value": 2,
            "_view_count": null,
            "_view_module_version": "1.5.0",
            "orientation": "horizontal",
            "min": 0,
            "description_tooltip": null,
            "_model_module": "@jupyter-widgets/controls",
            "layout": "IPY_MODEL_6f002ce208f841f3b3800558e56ccf0a"
          }
        },
        "ae33e7deb0e942668e9fb7015b1f9eed": {
          "model_module": "@jupyter-widgets/controls",
          "model_name": "HTMLModel",
          "state": {
            "_view_name": "HTMLView",
            "style": "IPY_MODEL_133fc2329db4499894af22821fbbe564",
            "_dom_classes": [],
            "description": "",
            "_model_name": "HTMLModel",
            "placeholder": "​",
            "_view_module": "@jupyter-widgets/controls",
            "_model_module_version": "1.5.0",
            "value": " 2.00/2.00 [00:00&lt;00:00, 3.93B/s]",
            "_view_count": null,
            "_view_module_version": "1.5.0",
            "description_tooltip": null,
            "_model_module": "@jupyter-widgets/controls",
            "layout": "IPY_MODEL_860adccd92b04fa0ad2a13c120c8a72f"
          }
        },
        "8d43afe7637043de9d50c3a7b009c37c": {
          "model_module": "@jupyter-widgets/controls",
          "model_name": "ProgressStyleModel",
          "state": {
            "_view_name": "StyleView",
            "_model_name": "ProgressStyleModel",
            "description_width": "initial",
            "_view_module": "@jupyter-widgets/base",
            "_model_module_version": "1.5.0",
            "_view_count": null,
            "_view_module_version": "1.2.0",
            "bar_color": null,
            "_model_module": "@jupyter-widgets/controls"
          }
        },
        "6f002ce208f841f3b3800558e56ccf0a": {
          "model_module": "@jupyter-widgets/base",
          "model_name": "LayoutModel",
          "state": {
            "_view_name": "LayoutView",
            "grid_template_rows": null,
            "right": null,
            "justify_content": null,
            "_view_module": "@jupyter-widgets/base",
            "overflow": null,
            "_model_module_version": "1.2.0",
            "_view_count": null,
            "flex_flow": null,
            "width": null,
            "min_width": null,
            "border": null,
            "align_items": null,
            "bottom": null,
            "_model_module": "@jupyter-widgets/base",
            "top": null,
            "grid_column": null,
            "overflow_y": null,
            "overflow_x": null,
            "grid_auto_flow": null,
            "grid_area": null,
            "grid_template_columns": null,
            "flex": null,
            "_model_name": "LayoutModel",
            "justify_items": null,
            "grid_row": null,
            "max_height": null,
            "align_content": null,
            "visibility": null,
            "align_self": null,
            "height": null,
            "min_height": null,
            "padding": null,
            "grid_auto_rows": null,
            "grid_gap": null,
            "max_width": null,
            "order": null,
            "_view_module_version": "1.2.0",
            "grid_template_areas": null,
            "object_position": null,
            "object_fit": null,
            "grid_auto_columns": null,
            "margin": null,
            "display": null,
            "left": null
          }
        },
        "133fc2329db4499894af22821fbbe564": {
          "model_module": "@jupyter-widgets/controls",
          "model_name": "DescriptionStyleModel",
          "state": {
            "_view_name": "StyleView",
            "_model_name": "DescriptionStyleModel",
            "description_width": "",
            "_view_module": "@jupyter-widgets/base",
            "_model_module_version": "1.5.0",
            "_view_count": null,
            "_view_module_version": "1.2.0",
            "_model_module": "@jupyter-widgets/controls"
          }
        },
        "860adccd92b04fa0ad2a13c120c8a72f": {
          "model_module": "@jupyter-widgets/base",
          "model_name": "LayoutModel",
          "state": {
            "_view_name": "LayoutView",
            "grid_template_rows": null,
            "right": null,
            "justify_content": null,
            "_view_module": "@jupyter-widgets/base",
            "overflow": null,
            "_model_module_version": "1.2.0",
            "_view_count": null,
            "flex_flow": null,
            "width": null,
            "min_width": null,
            "border": null,
            "align_items": null,
            "bottom": null,
            "_model_module": "@jupyter-widgets/base",
            "top": null,
            "grid_column": null,
            "overflow_y": null,
            "overflow_x": null,
            "grid_auto_flow": null,
            "grid_area": null,
            "grid_template_columns": null,
            "flex": null,
            "_model_name": "LayoutModel",
            "justify_items": null,
            "grid_row": null,
            "max_height": null,
            "align_content": null,
            "visibility": null,
            "align_self": null,
            "height": null,
            "min_height": null,
            "padding": null,
            "grid_auto_rows": null,
            "grid_gap": null,
            "max_width": null,
            "order": null,
            "_view_module_version": "1.2.0",
            "grid_template_areas": null,
            "object_position": null,
            "object_fit": null,
            "grid_auto_columns": null,
            "margin": null,
            "display": null,
            "left": null
          }
        },
        "b08d4c650dd745c3ac031c875cf707eb": {
          "model_module": "@jupyter-widgets/controls",
          "model_name": "HBoxModel",
          "state": {
            "_view_name": "HBoxView",
            "_dom_classes": [],
            "_model_name": "HBoxModel",
            "_view_module": "@jupyter-widgets/controls",
            "_model_module_version": "1.5.0",
            "_view_count": null,
            "_view_module_version": "1.5.0",
            "box_style": "",
            "layout": "IPY_MODEL_1cfc37a4ff6643ab910a99590bb8d7cb",
            "_model_module": "@jupyter-widgets/controls",
            "children": [
              "IPY_MODEL_0e86c2fd7a574ef1b4b1a4e86cb9ae2b",
              "IPY_MODEL_93e778952b8d468bb672bb0fa10ea373"
            ]
          }
        },
        "1cfc37a4ff6643ab910a99590bb8d7cb": {
          "model_module": "@jupyter-widgets/base",
          "model_name": "LayoutModel",
          "state": {
            "_view_name": "LayoutView",
            "grid_template_rows": null,
            "right": null,
            "justify_content": null,
            "_view_module": "@jupyter-widgets/base",
            "overflow": null,
            "_model_module_version": "1.2.0",
            "_view_count": null,
            "flex_flow": null,
            "width": null,
            "min_width": null,
            "border": null,
            "align_items": null,
            "bottom": null,
            "_model_module": "@jupyter-widgets/base",
            "top": null,
            "grid_column": null,
            "overflow_y": null,
            "overflow_x": null,
            "grid_auto_flow": null,
            "grid_area": null,
            "grid_template_columns": null,
            "flex": null,
            "_model_name": "LayoutModel",
            "justify_items": null,
            "grid_row": null,
            "max_height": null,
            "align_content": null,
            "visibility": null,
            "align_self": null,
            "height": null,
            "min_height": null,
            "padding": null,
            "grid_auto_rows": null,
            "grid_gap": null,
            "max_width": null,
            "order": null,
            "_view_module_version": "1.2.0",
            "grid_template_areas": null,
            "object_position": null,
            "object_fit": null,
            "grid_auto_columns": null,
            "margin": null,
            "display": null,
            "left": null
          }
        },
        "0e86c2fd7a574ef1b4b1a4e86cb9ae2b": {
          "model_module": "@jupyter-widgets/controls",
          "model_name": "FloatProgressModel",
          "state": {
            "_view_name": "ProgressView",
            "style": "IPY_MODEL_5aa686a97bf24b7f8abfc4318a9a7fef",
            "_dom_classes": [],
            "description": "Downloading: 100%",
            "_model_name": "FloatProgressModel",
            "bar_style": "success",
            "max": 112,
            "_view_module": "@jupyter-widgets/controls",
            "_model_module_version": "1.5.0",
            "value": 112,
            "_view_count": null,
            "_view_module_version": "1.5.0",
            "orientation": "horizontal",
            "min": 0,
            "description_tooltip": null,
            "_model_module": "@jupyter-widgets/controls",
            "layout": "IPY_MODEL_4c986a6f7c4d4e7c9f9dbe06876b3503"
          }
        },
        "93e778952b8d468bb672bb0fa10ea373": {
          "model_module": "@jupyter-widgets/controls",
          "model_name": "HTMLModel",
          "state": {
            "_view_name": "HTMLView",
            "style": "IPY_MODEL_7341fd8740644a84bb8b5bb7c7994aa1",
            "_dom_classes": [],
            "description": "",
            "_model_name": "HTMLModel",
            "placeholder": "​",
            "_view_module": "@jupyter-widgets/controls",
            "_model_module_version": "1.5.0",
            "value": " 112/112 [00:00&lt;00:00, 463B/s]",
            "_view_count": null,
            "_view_module_version": "1.5.0",
            "description_tooltip": null,
            "_model_module": "@jupyter-widgets/controls",
            "layout": "IPY_MODEL_27a1cc4efb184d818132c9710fe104e6"
          }
        },
        "5aa686a97bf24b7f8abfc4318a9a7fef": {
          "model_module": "@jupyter-widgets/controls",
          "model_name": "ProgressStyleModel",
          "state": {
            "_view_name": "StyleView",
            "_model_name": "ProgressStyleModel",
            "description_width": "initial",
            "_view_module": "@jupyter-widgets/base",
            "_model_module_version": "1.5.0",
            "_view_count": null,
            "_view_module_version": "1.2.0",
            "bar_color": null,
            "_model_module": "@jupyter-widgets/controls"
          }
        },
        "4c986a6f7c4d4e7c9f9dbe06876b3503": {
          "model_module": "@jupyter-widgets/base",
          "model_name": "LayoutModel",
          "state": {
            "_view_name": "LayoutView",
            "grid_template_rows": null,
            "right": null,
            "justify_content": null,
            "_view_module": "@jupyter-widgets/base",
            "overflow": null,
            "_model_module_version": "1.2.0",
            "_view_count": null,
            "flex_flow": null,
            "width": null,
            "min_width": null,
            "border": null,
            "align_items": null,
            "bottom": null,
            "_model_module": "@jupyter-widgets/base",
            "top": null,
            "grid_column": null,
            "overflow_y": null,
            "overflow_x": null,
            "grid_auto_flow": null,
            "grid_area": null,
            "grid_template_columns": null,
            "flex": null,
            "_model_name": "LayoutModel",
            "justify_items": null,
            "grid_row": null,
            "max_height": null,
            "align_content": null,
            "visibility": null,
            "align_self": null,
            "height": null,
            "min_height": null,
            "padding": null,
            "grid_auto_rows": null,
            "grid_gap": null,
            "max_width": null,
            "order": null,
            "_view_module_version": "1.2.0",
            "grid_template_areas": null,
            "object_position": null,
            "object_fit": null,
            "grid_auto_columns": null,
            "margin": null,
            "display": null,
            "left": null
          }
        },
        "7341fd8740644a84bb8b5bb7c7994aa1": {
          "model_module": "@jupyter-widgets/controls",
          "model_name": "DescriptionStyleModel",
          "state": {
            "_view_name": "StyleView",
            "_model_name": "DescriptionStyleModel",
            "description_width": "",
            "_view_module": "@jupyter-widgets/base",
            "_model_module_version": "1.5.0",
            "_view_count": null,
            "_view_module_version": "1.2.0",
            "_model_module": "@jupyter-widgets/controls"
          }
        },
        "27a1cc4efb184d818132c9710fe104e6": {
          "model_module": "@jupyter-widgets/base",
          "model_name": "LayoutModel",
          "state": {
            "_view_name": "LayoutView",
            "grid_template_rows": null,
            "right": null,
            "justify_content": null,
            "_view_module": "@jupyter-widgets/base",
            "overflow": null,
            "_model_module_version": "1.2.0",
            "_view_count": null,
            "flex_flow": null,
            "width": null,
            "min_width": null,
            "border": null,
            "align_items": null,
            "bottom": null,
            "_model_module": "@jupyter-widgets/base",
            "top": null,
            "grid_column": null,
            "overflow_y": null,
            "overflow_x": null,
            "grid_auto_flow": null,
            "grid_area": null,
            "grid_template_columns": null,
            "flex": null,
            "_model_name": "LayoutModel",
            "justify_items": null,
            "grid_row": null,
            "max_height": null,
            "align_content": null,
            "visibility": null,
            "align_self": null,
            "height": null,
            "min_height": null,
            "padding": null,
            "grid_auto_rows": null,
            "grid_gap": null,
            "max_width": null,
            "order": null,
            "_view_module_version": "1.2.0",
            "grid_template_areas": null,
            "object_position": null,
            "object_fit": null,
            "grid_auto_columns": null,
            "margin": null,
            "display": null,
            "left": null
          }
        },
        "6be37b6153fc4f209d69e2cf424ca8a9": {
          "model_module": "@jupyter-widgets/controls",
          "model_name": "HBoxModel",
          "state": {
            "_view_name": "HBoxView",
            "_dom_classes": [],
            "_model_name": "HBoxModel",
            "_view_module": "@jupyter-widgets/controls",
            "_model_module_version": "1.5.0",
            "_view_count": null,
            "_view_module_version": "1.5.0",
            "box_style": "",
            "layout": "IPY_MODEL_9f3546693bde4b6c8ba739651a232b57",
            "_model_module": "@jupyter-widgets/controls",
            "children": [
              "IPY_MODEL_34377240323d4f64bcfe749d6fdaf217",
              "IPY_MODEL_ff490bae374148bcb504aff0c8d993b1"
            ]
          }
        },
        "9f3546693bde4b6c8ba739651a232b57": {
          "model_module": "@jupyter-widgets/base",
          "model_name": "LayoutModel",
          "state": {
            "_view_name": "LayoutView",
            "grid_template_rows": null,
            "right": null,
            "justify_content": null,
            "_view_module": "@jupyter-widgets/base",
            "overflow": null,
            "_model_module_version": "1.2.0",
            "_view_count": null,
            "flex_flow": null,
            "width": null,
            "min_width": null,
            "border": null,
            "align_items": null,
            "bottom": null,
            "_model_module": "@jupyter-widgets/base",
            "top": null,
            "grid_column": null,
            "overflow_y": null,
            "overflow_x": null,
            "grid_auto_flow": null,
            "grid_area": null,
            "grid_template_columns": null,
            "flex": null,
            "_model_name": "LayoutModel",
            "justify_items": null,
            "grid_row": null,
            "max_height": null,
            "align_content": null,
            "visibility": null,
            "align_self": null,
            "height": null,
            "min_height": null,
            "padding": null,
            "grid_auto_rows": null,
            "grid_gap": null,
            "max_width": null,
            "order": null,
            "_view_module_version": "1.2.0",
            "grid_template_areas": null,
            "object_position": null,
            "object_fit": null,
            "grid_auto_columns": null,
            "margin": null,
            "display": null,
            "left": null
          }
        },
        "34377240323d4f64bcfe749d6fdaf217": {
          "model_module": "@jupyter-widgets/controls",
          "model_name": "FloatProgressModel",
          "state": {
            "_view_name": "ProgressView",
            "style": "IPY_MODEL_61e9e3353f484a999ef0d126c499ca56",
            "_dom_classes": [],
            "description": "Downloading: 100%",
            "_model_name": "FloatProgressModel",
            "bar_style": "success",
            "max": 438006864,
            "_view_module": "@jupyter-widgets/controls",
            "_model_module_version": "1.5.0",
            "value": 438006864,
            "_view_count": null,
            "_view_module_version": "1.5.0",
            "orientation": "horizontal",
            "min": 0,
            "description_tooltip": null,
            "_model_module": "@jupyter-widgets/controls",
            "layout": "IPY_MODEL_e1a5801e8e3a402397b2c39e3fbaabdd"
          }
        },
        "ff490bae374148bcb504aff0c8d993b1": {
          "model_module": "@jupyter-widgets/controls",
          "model_name": "HTMLModel",
          "state": {
            "_view_name": "HTMLView",
            "style": "IPY_MODEL_e8161349f08d4fc583aec1a54a2ea614",
            "_dom_classes": [],
            "description": "",
            "_model_name": "HTMLModel",
            "placeholder": "​",
            "_view_module": "@jupyter-widgets/controls",
            "_model_module_version": "1.5.0",
            "value": " 438M/438M [00:07&lt;00:00, 60.2MB/s]",
            "_view_count": null,
            "_view_module_version": "1.5.0",
            "description_tooltip": null,
            "_model_module": "@jupyter-widgets/controls",
            "layout": "IPY_MODEL_64b5dda43a324aa0a606842b2245e969"
          }
        },
        "61e9e3353f484a999ef0d126c499ca56": {
          "model_module": "@jupyter-widgets/controls",
          "model_name": "ProgressStyleModel",
          "state": {
            "_view_name": "StyleView",
            "_model_name": "ProgressStyleModel",
            "description_width": "initial",
            "_view_module": "@jupyter-widgets/base",
            "_model_module_version": "1.5.0",
            "_view_count": null,
            "_view_module_version": "1.2.0",
            "bar_color": null,
            "_model_module": "@jupyter-widgets/controls"
          }
        },
        "e1a5801e8e3a402397b2c39e3fbaabdd": {
          "model_module": "@jupyter-widgets/base",
          "model_name": "LayoutModel",
          "state": {
            "_view_name": "LayoutView",
            "grid_template_rows": null,
            "right": null,
            "justify_content": null,
            "_view_module": "@jupyter-widgets/base",
            "overflow": null,
            "_model_module_version": "1.2.0",
            "_view_count": null,
            "flex_flow": null,
            "width": null,
            "min_width": null,
            "border": null,
            "align_items": null,
            "bottom": null,
            "_model_module": "@jupyter-widgets/base",
            "top": null,
            "grid_column": null,
            "overflow_y": null,
            "overflow_x": null,
            "grid_auto_flow": null,
            "grid_area": null,
            "grid_template_columns": null,
            "flex": null,
            "_model_name": "LayoutModel",
            "justify_items": null,
            "grid_row": null,
            "max_height": null,
            "align_content": null,
            "visibility": null,
            "align_self": null,
            "height": null,
            "min_height": null,
            "padding": null,
            "grid_auto_rows": null,
            "grid_gap": null,
            "max_width": null,
            "order": null,
            "_view_module_version": "1.2.0",
            "grid_template_areas": null,
            "object_position": null,
            "object_fit": null,
            "grid_auto_columns": null,
            "margin": null,
            "display": null,
            "left": null
          }
        },
        "e8161349f08d4fc583aec1a54a2ea614": {
          "model_module": "@jupyter-widgets/controls",
          "model_name": "DescriptionStyleModel",
          "state": {
            "_view_name": "StyleView",
            "_model_name": "DescriptionStyleModel",
            "description_width": "",
            "_view_module": "@jupyter-widgets/base",
            "_model_module_version": "1.5.0",
            "_view_count": null,
            "_view_module_version": "1.2.0",
            "_model_module": "@jupyter-widgets/controls"
          }
        },
        "64b5dda43a324aa0a606842b2245e969": {
          "model_module": "@jupyter-widgets/base",
          "model_name": "LayoutModel",
          "state": {
            "_view_name": "LayoutView",
            "grid_template_rows": null,
            "right": null,
            "justify_content": null,
            "_view_module": "@jupyter-widgets/base",
            "overflow": null,
            "_model_module_version": "1.2.0",
            "_view_count": null,
            "flex_flow": null,
            "width": null,
            "min_width": null,
            "border": null,
            "align_items": null,
            "bottom": null,
            "_model_module": "@jupyter-widgets/base",
            "top": null,
            "grid_column": null,
            "overflow_y": null,
            "overflow_x": null,
            "grid_auto_flow": null,
            "grid_area": null,
            "grid_template_columns": null,
            "flex": null,
            "_model_name": "LayoutModel",
            "justify_items": null,
            "grid_row": null,
            "max_height": null,
            "align_content": null,
            "visibility": null,
            "align_self": null,
            "height": null,
            "min_height": null,
            "padding": null,
            "grid_auto_rows": null,
            "grid_gap": null,
            "max_width": null,
            "order": null,
            "_view_module_version": "1.2.0",
            "grid_template_areas": null,
            "object_position": null,
            "object_fit": null,
            "grid_auto_columns": null,
            "margin": null,
            "display": null,
            "left": null
          }
        },
        "5a22e16fb5df4c129c601fadec8f12fb": {
          "model_module": "@jupyter-widgets/controls",
          "model_name": "HBoxModel",
          "state": {
            "_view_name": "HBoxView",
            "_dom_classes": [],
            "_model_name": "HBoxModel",
            "_view_module": "@jupyter-widgets/controls",
            "_model_module_version": "1.5.0",
            "_view_count": null,
            "_view_module_version": "1.5.0",
            "box_style": "",
            "layout": "IPY_MODEL_96755397062142aaa8c93b74a8aa089f",
            "_model_module": "@jupyter-widgets/controls",
            "children": [
              "IPY_MODEL_a980c25dbed54573a444fd1634e643f7",
              "IPY_MODEL_63ad9cc882634871b91b051aedca4439"
            ]
          }
        },
        "96755397062142aaa8c93b74a8aa089f": {
          "model_module": "@jupyter-widgets/base",
          "model_name": "LayoutModel",
          "state": {
            "_view_name": "LayoutView",
            "grid_template_rows": null,
            "right": null,
            "justify_content": null,
            "_view_module": "@jupyter-widgets/base",
            "overflow": null,
            "_model_module_version": "1.2.0",
            "_view_count": null,
            "flex_flow": null,
            "width": null,
            "min_width": null,
            "border": null,
            "align_items": null,
            "bottom": null,
            "_model_module": "@jupyter-widgets/base",
            "top": null,
            "grid_column": null,
            "overflow_y": null,
            "overflow_x": null,
            "grid_auto_flow": null,
            "grid_area": null,
            "grid_template_columns": null,
            "flex": null,
            "_model_name": "LayoutModel",
            "justify_items": null,
            "grid_row": null,
            "max_height": null,
            "align_content": null,
            "visibility": null,
            "align_self": null,
            "height": null,
            "min_height": null,
            "padding": null,
            "grid_auto_rows": null,
            "grid_gap": null,
            "max_width": null,
            "order": null,
            "_view_module_version": "1.2.0",
            "grid_template_areas": null,
            "object_position": null,
            "object_fit": null,
            "grid_auto_columns": null,
            "margin": null,
            "display": null,
            "left": null
          }
        },
        "a980c25dbed54573a444fd1634e643f7": {
          "model_module": "@jupyter-widgets/controls",
          "model_name": "FloatProgressModel",
          "state": {
            "_view_name": "ProgressView",
            "style": "IPY_MODEL_5d08cbd09c6648b288d08754a351ef58",
            "_dom_classes": [],
            "description": "Downloading: 100%",
            "_model_name": "FloatProgressModel",
            "bar_style": "success",
            "max": 688,
            "_view_module": "@jupyter-widgets/controls",
            "_model_module_version": "1.5.0",
            "value": 688,
            "_view_count": null,
            "_view_module_version": "1.5.0",
            "orientation": "horizontal",
            "min": 0,
            "description_tooltip": null,
            "_model_module": "@jupyter-widgets/controls",
            "layout": "IPY_MODEL_e1c2f6e2937948a28eeafcb5b406e74c"
          }
        },
        "63ad9cc882634871b91b051aedca4439": {
          "model_module": "@jupyter-widgets/controls",
          "model_name": "HTMLModel",
          "state": {
            "_view_name": "HTMLView",
            "style": "IPY_MODEL_5538c1b9f9f6473c92815b34f03e82a8",
            "_dom_classes": [],
            "description": "",
            "_model_name": "HTMLModel",
            "placeholder": "​",
            "_view_module": "@jupyter-widgets/controls",
            "_model_module_version": "1.5.0",
            "value": " 688/688 [00:00&lt;00:00, 2.66kB/s]",
            "_view_count": null,
            "_view_module_version": "1.5.0",
            "description_tooltip": null,
            "_model_module": "@jupyter-widgets/controls",
            "layout": "IPY_MODEL_312a88aabeb447c3aaef630111f7abbf"
          }
        },
        "5d08cbd09c6648b288d08754a351ef58": {
          "model_module": "@jupyter-widgets/controls",
          "model_name": "ProgressStyleModel",
          "state": {
            "_view_name": "StyleView",
            "_model_name": "ProgressStyleModel",
            "description_width": "initial",
            "_view_module": "@jupyter-widgets/base",
            "_model_module_version": "1.5.0",
            "_view_count": null,
            "_view_module_version": "1.2.0",
            "bar_color": null,
            "_model_module": "@jupyter-widgets/controls"
          }
        },
        "e1c2f6e2937948a28eeafcb5b406e74c": {
          "model_module": "@jupyter-widgets/base",
          "model_name": "LayoutModel",
          "state": {
            "_view_name": "LayoutView",
            "grid_template_rows": null,
            "right": null,
            "justify_content": null,
            "_view_module": "@jupyter-widgets/base",
            "overflow": null,
            "_model_module_version": "1.2.0",
            "_view_count": null,
            "flex_flow": null,
            "width": null,
            "min_width": null,
            "border": null,
            "align_items": null,
            "bottom": null,
            "_model_module": "@jupyter-widgets/base",
            "top": null,
            "grid_column": null,
            "overflow_y": null,
            "overflow_x": null,
            "grid_auto_flow": null,
            "grid_area": null,
            "grid_template_columns": null,
            "flex": null,
            "_model_name": "LayoutModel",
            "justify_items": null,
            "grid_row": null,
            "max_height": null,
            "align_content": null,
            "visibility": null,
            "align_self": null,
            "height": null,
            "min_height": null,
            "padding": null,
            "grid_auto_rows": null,
            "grid_gap": null,
            "max_width": null,
            "order": null,
            "_view_module_version": "1.2.0",
            "grid_template_areas": null,
            "object_position": null,
            "object_fit": null,
            "grid_auto_columns": null,
            "margin": null,
            "display": null,
            "left": null
          }
        },
        "5538c1b9f9f6473c92815b34f03e82a8": {
          "model_module": "@jupyter-widgets/controls",
          "model_name": "DescriptionStyleModel",
          "state": {
            "_view_name": "StyleView",
            "_model_name": "DescriptionStyleModel",
            "description_width": "",
            "_view_module": "@jupyter-widgets/base",
            "_model_module_version": "1.5.0",
            "_view_count": null,
            "_view_module_version": "1.2.0",
            "_model_module": "@jupyter-widgets/controls"
          }
        },
        "312a88aabeb447c3aaef630111f7abbf": {
          "model_module": "@jupyter-widgets/base",
          "model_name": "LayoutModel",
          "state": {
            "_view_name": "LayoutView",
            "grid_template_rows": null,
            "right": null,
            "justify_content": null,
            "_view_module": "@jupyter-widgets/base",
            "overflow": null,
            "_model_module_version": "1.2.0",
            "_view_count": null,
            "flex_flow": null,
            "width": null,
            "min_width": null,
            "border": null,
            "align_items": null,
            "bottom": null,
            "_model_module": "@jupyter-widgets/base",
            "top": null,
            "grid_column": null,
            "overflow_y": null,
            "overflow_x": null,
            "grid_auto_flow": null,
            "grid_area": null,
            "grid_template_columns": null,
            "flex": null,
            "_model_name": "LayoutModel",
            "justify_items": null,
            "grid_row": null,
            "max_height": null,
            "align_content": null,
            "visibility": null,
            "align_self": null,
            "height": null,
            "min_height": null,
            "padding": null,
            "grid_auto_rows": null,
            "grid_gap": null,
            "max_width": null,
            "order": null,
            "_view_module_version": "1.2.0",
            "grid_template_areas": null,
            "object_position": null,
            "object_fit": null,
            "grid_auto_columns": null,
            "margin": null,
            "display": null,
            "left": null
          }
        },
        "0b4572e123134cc9b6250ca91d604a71": {
          "model_module": "@jupyter-widgets/controls",
          "model_name": "HBoxModel",
          "state": {
            "_view_name": "HBoxView",
            "_dom_classes": [],
            "_model_name": "HBoxModel",
            "_view_module": "@jupyter-widgets/controls",
            "_model_module_version": "1.5.0",
            "_view_count": null,
            "_view_module_version": "1.5.0",
            "box_style": "",
            "layout": "IPY_MODEL_a8ac6a36ef8f49fe897d6ce2812c40c6",
            "_model_module": "@jupyter-widgets/controls",
            "children": [
              "IPY_MODEL_7505466719b24674b5a46413dc634c78",
              "IPY_MODEL_4f66368a9a824cf685b65160911c9729"
            ]
          }
        },
        "a8ac6a36ef8f49fe897d6ce2812c40c6": {
          "model_module": "@jupyter-widgets/base",
          "model_name": "LayoutModel",
          "state": {
            "_view_name": "LayoutView",
            "grid_template_rows": null,
            "right": null,
            "justify_content": null,
            "_view_module": "@jupyter-widgets/base",
            "overflow": null,
            "_model_module_version": "1.2.0",
            "_view_count": null,
            "flex_flow": null,
            "width": null,
            "min_width": null,
            "border": null,
            "align_items": null,
            "bottom": null,
            "_model_module": "@jupyter-widgets/base",
            "top": null,
            "grid_column": null,
            "overflow_y": null,
            "overflow_x": null,
            "grid_auto_flow": null,
            "grid_area": null,
            "grid_template_columns": null,
            "flex": null,
            "_model_name": "LayoutModel",
            "justify_items": null,
            "grid_row": null,
            "max_height": null,
            "align_content": null,
            "visibility": null,
            "align_self": null,
            "height": null,
            "min_height": null,
            "padding": null,
            "grid_auto_rows": null,
            "grid_gap": null,
            "max_width": null,
            "order": null,
            "_view_module_version": "1.2.0",
            "grid_template_areas": null,
            "object_position": null,
            "object_fit": null,
            "grid_auto_columns": null,
            "margin": null,
            "display": null,
            "left": null
          }
        },
        "7505466719b24674b5a46413dc634c78": {
          "model_module": "@jupyter-widgets/controls",
          "model_name": "FloatProgressModel",
          "state": {
            "_view_name": "ProgressView",
            "style": "IPY_MODEL_e0488afef9ca4836aa1e172968a1de21",
            "_dom_classes": [],
            "description": "Downloading: 100%",
            "_model_name": "FloatProgressModel",
            "bar_style": "success",
            "max": 898823,
            "_view_module": "@jupyter-widgets/controls",
            "_model_module_version": "1.5.0",
            "value": 898823,
            "_view_count": null,
            "_view_module_version": "1.5.0",
            "orientation": "horizontal",
            "min": 0,
            "description_tooltip": null,
            "_model_module": "@jupyter-widgets/controls",
            "layout": "IPY_MODEL_7d9946960e0f4288b433dbb604955656"
          }
        },
        "4f66368a9a824cf685b65160911c9729": {
          "model_module": "@jupyter-widgets/controls",
          "model_name": "HTMLModel",
          "state": {
            "_view_name": "HTMLView",
            "style": "IPY_MODEL_790bbb15c3df406084aa90e393b0b9e1",
            "_dom_classes": [],
            "description": "",
            "_model_name": "HTMLModel",
            "placeholder": "​",
            "_view_module": "@jupyter-widgets/controls",
            "_model_module_version": "1.5.0",
            "value": " 899k/899k [00:00&lt;00:00, 2.05MB/s]",
            "_view_count": null,
            "_view_module_version": "1.5.0",
            "description_tooltip": null,
            "_model_module": "@jupyter-widgets/controls",
            "layout": "IPY_MODEL_90393da763aa46dfa701f9e0f18456b9"
          }
        },
        "e0488afef9ca4836aa1e172968a1de21": {
          "model_module": "@jupyter-widgets/controls",
          "model_name": "ProgressStyleModel",
          "state": {
            "_view_name": "StyleView",
            "_model_name": "ProgressStyleModel",
            "description_width": "initial",
            "_view_module": "@jupyter-widgets/base",
            "_model_module_version": "1.5.0",
            "_view_count": null,
            "_view_module_version": "1.2.0",
            "bar_color": null,
            "_model_module": "@jupyter-widgets/controls"
          }
        },
        "7d9946960e0f4288b433dbb604955656": {
          "model_module": "@jupyter-widgets/base",
          "model_name": "LayoutModel",
          "state": {
            "_view_name": "LayoutView",
            "grid_template_rows": null,
            "right": null,
            "justify_content": null,
            "_view_module": "@jupyter-widgets/base",
            "overflow": null,
            "_model_module_version": "1.2.0",
            "_view_count": null,
            "flex_flow": null,
            "width": null,
            "min_width": null,
            "border": null,
            "align_items": null,
            "bottom": null,
            "_model_module": "@jupyter-widgets/base",
            "top": null,
            "grid_column": null,
            "overflow_y": null,
            "overflow_x": null,
            "grid_auto_flow": null,
            "grid_area": null,
            "grid_template_columns": null,
            "flex": null,
            "_model_name": "LayoutModel",
            "justify_items": null,
            "grid_row": null,
            "max_height": null,
            "align_content": null,
            "visibility": null,
            "align_self": null,
            "height": null,
            "min_height": null,
            "padding": null,
            "grid_auto_rows": null,
            "grid_gap": null,
            "max_width": null,
            "order": null,
            "_view_module_version": "1.2.0",
            "grid_template_areas": null,
            "object_position": null,
            "object_fit": null,
            "grid_auto_columns": null,
            "margin": null,
            "display": null,
            "left": null
          }
        },
        "790bbb15c3df406084aa90e393b0b9e1": {
          "model_module": "@jupyter-widgets/controls",
          "model_name": "DescriptionStyleModel",
          "state": {
            "_view_name": "StyleView",
            "_model_name": "DescriptionStyleModel",
            "description_width": "",
            "_view_module": "@jupyter-widgets/base",
            "_model_module_version": "1.5.0",
            "_view_count": null,
            "_view_module_version": "1.2.0",
            "_model_module": "@jupyter-widgets/controls"
          }
        },
        "90393da763aa46dfa701f9e0f18456b9": {
          "model_module": "@jupyter-widgets/base",
          "model_name": "LayoutModel",
          "state": {
            "_view_name": "LayoutView",
            "grid_template_rows": null,
            "right": null,
            "justify_content": null,
            "_view_module": "@jupyter-widgets/base",
            "overflow": null,
            "_model_module_version": "1.2.0",
            "_view_count": null,
            "flex_flow": null,
            "width": null,
            "min_width": null,
            "border": null,
            "align_items": null,
            "bottom": null,
            "_model_module": "@jupyter-widgets/base",
            "top": null,
            "grid_column": null,
            "overflow_y": null,
            "overflow_x": null,
            "grid_auto_flow": null,
            "grid_area": null,
            "grid_template_columns": null,
            "flex": null,
            "_model_name": "LayoutModel",
            "justify_items": null,
            "grid_row": null,
            "max_height": null,
            "align_content": null,
            "visibility": null,
            "align_self": null,
            "height": null,
            "min_height": null,
            "padding": null,
            "grid_auto_rows": null,
            "grid_gap": null,
            "max_width": null,
            "order": null,
            "_view_module_version": "1.2.0",
            "grid_template_areas": null,
            "object_position": null,
            "object_fit": null,
            "grid_auto_columns": null,
            "margin": null,
            "display": null,
            "left": null
          }
        },
        "258f982dc87448dd8a950beff8474aaf": {
          "model_module": "@jupyter-widgets/controls",
          "model_name": "HBoxModel",
          "state": {
            "_view_name": "HBoxView",
            "_dom_classes": [],
            "_model_name": "HBoxModel",
            "_view_module": "@jupyter-widgets/controls",
            "_model_module_version": "1.5.0",
            "_view_count": null,
            "_view_module_version": "1.5.0",
            "box_style": "",
            "layout": "IPY_MODEL_1aae3fb8e9aa48d3962e0309e55d117f",
            "_model_module": "@jupyter-widgets/controls",
            "children": [
              "IPY_MODEL_d2e85ff288af4c6893a022817566ed61",
              "IPY_MODEL_4992b23b3e964e46bfe98ff46404d013"
            ]
          }
        },
        "1aae3fb8e9aa48d3962e0309e55d117f": {
          "model_module": "@jupyter-widgets/base",
          "model_name": "LayoutModel",
          "state": {
            "_view_name": "LayoutView",
            "grid_template_rows": null,
            "right": null,
            "justify_content": null,
            "_view_module": "@jupyter-widgets/base",
            "overflow": null,
            "_model_module_version": "1.2.0",
            "_view_count": null,
            "flex_flow": null,
            "width": null,
            "min_width": null,
            "border": null,
            "align_items": null,
            "bottom": null,
            "_model_module": "@jupyter-widgets/base",
            "top": null,
            "grid_column": null,
            "overflow_y": null,
            "overflow_x": null,
            "grid_auto_flow": null,
            "grid_area": null,
            "grid_template_columns": null,
            "flex": null,
            "_model_name": "LayoutModel",
            "justify_items": null,
            "grid_row": null,
            "max_height": null,
            "align_content": null,
            "visibility": null,
            "align_self": null,
            "height": null,
            "min_height": null,
            "padding": null,
            "grid_auto_rows": null,
            "grid_gap": null,
            "max_width": null,
            "order": null,
            "_view_module_version": "1.2.0",
            "grid_template_areas": null,
            "object_position": null,
            "object_fit": null,
            "grid_auto_columns": null,
            "margin": null,
            "display": null,
            "left": null
          }
        },
        "d2e85ff288af4c6893a022817566ed61": {
          "model_module": "@jupyter-widgets/controls",
          "model_name": "FloatProgressModel",
          "state": {
            "_view_name": "ProgressView",
            "style": "IPY_MODEL_15ac3d2bae70469599c0f487e2abbc12",
            "_dom_classes": [],
            "description": "Downloading: 100%",
            "_model_name": "FloatProgressModel",
            "bar_style": "success",
            "max": 456318,
            "_view_module": "@jupyter-widgets/controls",
            "_model_module_version": "1.5.0",
            "value": 456318,
            "_view_count": null,
            "_view_module_version": "1.5.0",
            "orientation": "horizontal",
            "min": 0,
            "description_tooltip": null,
            "_model_module": "@jupyter-widgets/controls",
            "layout": "IPY_MODEL_4f6ec4facd6142bb8c0e17fdaca2773e"
          }
        },
        "4992b23b3e964e46bfe98ff46404d013": {
          "model_module": "@jupyter-widgets/controls",
          "model_name": "HTMLModel",
          "state": {
            "_view_name": "HTMLView",
            "style": "IPY_MODEL_b1956be3892c40a1bd6095529ffbb7ed",
            "_dom_classes": [],
            "description": "",
            "_model_name": "HTMLModel",
            "placeholder": "​",
            "_view_module": "@jupyter-widgets/controls",
            "_model_module_version": "1.5.0",
            "value": " 456k/456k [00:00&lt;00:00, 3.23MB/s]",
            "_view_count": null,
            "_view_module_version": "1.5.0",
            "description_tooltip": null,
            "_model_module": "@jupyter-widgets/controls",
            "layout": "IPY_MODEL_720c39a1155b453fa880bc8ed730b5fe"
          }
        },
        "15ac3d2bae70469599c0f487e2abbc12": {
          "model_module": "@jupyter-widgets/controls",
          "model_name": "ProgressStyleModel",
          "state": {
            "_view_name": "StyleView",
            "_model_name": "ProgressStyleModel",
            "description_width": "initial",
            "_view_module": "@jupyter-widgets/base",
            "_model_module_version": "1.5.0",
            "_view_count": null,
            "_view_module_version": "1.2.0",
            "bar_color": null,
            "_model_module": "@jupyter-widgets/controls"
          }
        },
        "4f6ec4facd6142bb8c0e17fdaca2773e": {
          "model_module": "@jupyter-widgets/base",
          "model_name": "LayoutModel",
          "state": {
            "_view_name": "LayoutView",
            "grid_template_rows": null,
            "right": null,
            "justify_content": null,
            "_view_module": "@jupyter-widgets/base",
            "overflow": null,
            "_model_module_version": "1.2.0",
            "_view_count": null,
            "flex_flow": null,
            "width": null,
            "min_width": null,
            "border": null,
            "align_items": null,
            "bottom": null,
            "_model_module": "@jupyter-widgets/base",
            "top": null,
            "grid_column": null,
            "overflow_y": null,
            "overflow_x": null,
            "grid_auto_flow": null,
            "grid_area": null,
            "grid_template_columns": null,
            "flex": null,
            "_model_name": "LayoutModel",
            "justify_items": null,
            "grid_row": null,
            "max_height": null,
            "align_content": null,
            "visibility": null,
            "align_self": null,
            "height": null,
            "min_height": null,
            "padding": null,
            "grid_auto_rows": null,
            "grid_gap": null,
            "max_width": null,
            "order": null,
            "_view_module_version": "1.2.0",
            "grid_template_areas": null,
            "object_position": null,
            "object_fit": null,
            "grid_auto_columns": null,
            "margin": null,
            "display": null,
            "left": null
          }
        },
        "b1956be3892c40a1bd6095529ffbb7ed": {
          "model_module": "@jupyter-widgets/controls",
          "model_name": "DescriptionStyleModel",
          "state": {
            "_view_name": "StyleView",
            "_model_name": "DescriptionStyleModel",
            "description_width": "",
            "_view_module": "@jupyter-widgets/base",
            "_model_module_version": "1.5.0",
            "_view_count": null,
            "_view_module_version": "1.2.0",
            "_model_module": "@jupyter-widgets/controls"
          }
        },
        "720c39a1155b453fa880bc8ed730b5fe": {
          "model_module": "@jupyter-widgets/base",
          "model_name": "LayoutModel",
          "state": {
            "_view_name": "LayoutView",
            "grid_template_rows": null,
            "right": null,
            "justify_content": null,
            "_view_module": "@jupyter-widgets/base",
            "overflow": null,
            "_model_module_version": "1.2.0",
            "_view_count": null,
            "flex_flow": null,
            "width": null,
            "min_width": null,
            "border": null,
            "align_items": null,
            "bottom": null,
            "_model_module": "@jupyter-widgets/base",
            "top": null,
            "grid_column": null,
            "overflow_y": null,
            "overflow_x": null,
            "grid_auto_flow": null,
            "grid_area": null,
            "grid_template_columns": null,
            "flex": null,
            "_model_name": "LayoutModel",
            "justify_items": null,
            "grid_row": null,
            "max_height": null,
            "align_content": null,
            "visibility": null,
            "align_self": null,
            "height": null,
            "min_height": null,
            "padding": null,
            "grid_auto_rows": null,
            "grid_gap": null,
            "max_width": null,
            "order": null,
            "_view_module_version": "1.2.0",
            "grid_template_areas": null,
            "object_position": null,
            "object_fit": null,
            "grid_auto_columns": null,
            "margin": null,
            "display": null,
            "left": null
          }
        },
        "ce233ad7d0e64208bd639996a46de401": {
          "model_module": "@jupyter-widgets/controls",
          "model_name": "HBoxModel",
          "state": {
            "_view_name": "HBoxView",
            "_dom_classes": [],
            "_model_name": "HBoxModel",
            "_view_module": "@jupyter-widgets/controls",
            "_model_module_version": "1.5.0",
            "_view_count": null,
            "_view_module_version": "1.5.0",
            "box_style": "",
            "layout": "IPY_MODEL_e79c198015ab475894ddb2d0d25e548c",
            "_model_module": "@jupyter-widgets/controls",
            "children": [
              "IPY_MODEL_9d57576f0adf4c3c8d4f8077e9c89a5a",
              "IPY_MODEL_f6c00e518dbe465f8a18e1c2e7e40fd5"
            ]
          }
        },
        "e79c198015ab475894ddb2d0d25e548c": {
          "model_module": "@jupyter-widgets/base",
          "model_name": "LayoutModel",
          "state": {
            "_view_name": "LayoutView",
            "grid_template_rows": null,
            "right": null,
            "justify_content": null,
            "_view_module": "@jupyter-widgets/base",
            "overflow": null,
            "_model_module_version": "1.2.0",
            "_view_count": null,
            "flex_flow": null,
            "width": null,
            "min_width": null,
            "border": null,
            "align_items": null,
            "bottom": null,
            "_model_module": "@jupyter-widgets/base",
            "top": null,
            "grid_column": null,
            "overflow_y": null,
            "overflow_x": null,
            "grid_auto_flow": null,
            "grid_area": null,
            "grid_template_columns": null,
            "flex": null,
            "_model_name": "LayoutModel",
            "justify_items": null,
            "grid_row": null,
            "max_height": null,
            "align_content": null,
            "visibility": null,
            "align_self": null,
            "height": null,
            "min_height": null,
            "padding": null,
            "grid_auto_rows": null,
            "grid_gap": null,
            "max_width": null,
            "order": null,
            "_view_module_version": "1.2.0",
            "grid_template_areas": null,
            "object_position": null,
            "object_fit": null,
            "grid_auto_columns": null,
            "margin": null,
            "display": null,
            "left": null
          }
        },
        "9d57576f0adf4c3c8d4f8077e9c89a5a": {
          "model_module": "@jupyter-widgets/controls",
          "model_name": "FloatProgressModel",
          "state": {
            "_view_name": "ProgressView",
            "style": "IPY_MODEL_a086df28ca0a47e28ee390cf59aa1782",
            "_dom_classes": [],
            "description": "Downloading: 100%",
            "_model_name": "FloatProgressModel",
            "bar_style": "success",
            "max": 1425744429,
            "_view_module": "@jupyter-widgets/controls",
            "_model_module_version": "1.5.0",
            "value": 1425744429,
            "_view_count": null,
            "_view_module_version": "1.5.0",
            "orientation": "horizontal",
            "min": 0,
            "description_tooltip": null,
            "_model_module": "@jupyter-widgets/controls",
            "layout": "IPY_MODEL_0c621368452c409c81401e2f80a61ecb"
          }
        },
        "f6c00e518dbe465f8a18e1c2e7e40fd5": {
          "model_module": "@jupyter-widgets/controls",
          "model_name": "HTMLModel",
          "state": {
            "_view_name": "HTMLView",
            "style": "IPY_MODEL_96b262d3ec1d44a294449b14bd41b983",
            "_dom_classes": [],
            "description": "",
            "_model_name": "HTMLModel",
            "placeholder": "​",
            "_view_module": "@jupyter-widgets/controls",
            "_model_module_version": "1.5.0",
            "value": " 1.43G/1.43G [00:24&lt;00:00, 58.8MB/s]",
            "_view_count": null,
            "_view_module_version": "1.5.0",
            "description_tooltip": null,
            "_model_module": "@jupyter-widgets/controls",
            "layout": "IPY_MODEL_61cb0b1aece240cbb0d78a2c6fa8af1d"
          }
        },
        "a086df28ca0a47e28ee390cf59aa1782": {
          "model_module": "@jupyter-widgets/controls",
          "model_name": "ProgressStyleModel",
          "state": {
            "_view_name": "StyleView",
            "_model_name": "ProgressStyleModel",
            "description_width": "initial",
            "_view_module": "@jupyter-widgets/base",
            "_model_module_version": "1.5.0",
            "_view_count": null,
            "_view_module_version": "1.2.0",
            "bar_color": null,
            "_model_module": "@jupyter-widgets/controls"
          }
        },
        "0c621368452c409c81401e2f80a61ecb": {
          "model_module": "@jupyter-widgets/base",
          "model_name": "LayoutModel",
          "state": {
            "_view_name": "LayoutView",
            "grid_template_rows": null,
            "right": null,
            "justify_content": null,
            "_view_module": "@jupyter-widgets/base",
            "overflow": null,
            "_model_module_version": "1.2.0",
            "_view_count": null,
            "flex_flow": null,
            "width": null,
            "min_width": null,
            "border": null,
            "align_items": null,
            "bottom": null,
            "_model_module": "@jupyter-widgets/base",
            "top": null,
            "grid_column": null,
            "overflow_y": null,
            "overflow_x": null,
            "grid_auto_flow": null,
            "grid_area": null,
            "grid_template_columns": null,
            "flex": null,
            "_model_name": "LayoutModel",
            "justify_items": null,
            "grid_row": null,
            "max_height": null,
            "align_content": null,
            "visibility": null,
            "align_self": null,
            "height": null,
            "min_height": null,
            "padding": null,
            "grid_auto_rows": null,
            "grid_gap": null,
            "max_width": null,
            "order": null,
            "_view_module_version": "1.2.0",
            "grid_template_areas": null,
            "object_position": null,
            "object_fit": null,
            "grid_auto_columns": null,
            "margin": null,
            "display": null,
            "left": null
          }
        },
        "96b262d3ec1d44a294449b14bd41b983": {
          "model_module": "@jupyter-widgets/controls",
          "model_name": "DescriptionStyleModel",
          "state": {
            "_view_name": "StyleView",
            "_model_name": "DescriptionStyleModel",
            "description_width": "",
            "_view_module": "@jupyter-widgets/base",
            "_model_module_version": "1.5.0",
            "_view_count": null,
            "_view_module_version": "1.2.0",
            "_model_module": "@jupyter-widgets/controls"
          }
        },
        "61cb0b1aece240cbb0d78a2c6fa8af1d": {
          "model_module": "@jupyter-widgets/base",
          "model_name": "LayoutModel",
          "state": {
            "_view_name": "LayoutView",
            "grid_template_rows": null,
            "right": null,
            "justify_content": null,
            "_view_module": "@jupyter-widgets/base",
            "overflow": null,
            "_model_module_version": "1.2.0",
            "_view_count": null,
            "flex_flow": null,
            "width": null,
            "min_width": null,
            "border": null,
            "align_items": null,
            "bottom": null,
            "_model_module": "@jupyter-widgets/base",
            "top": null,
            "grid_column": null,
            "overflow_y": null,
            "overflow_x": null,
            "grid_auto_flow": null,
            "grid_area": null,
            "grid_template_columns": null,
            "flex": null,
            "_model_name": "LayoutModel",
            "justify_items": null,
            "grid_row": null,
            "max_height": null,
            "align_content": null,
            "visibility": null,
            "align_self": null,
            "height": null,
            "min_height": null,
            "padding": null,
            "grid_auto_rows": null,
            "grid_gap": null,
            "max_width": null,
            "order": null,
            "_view_module_version": "1.2.0",
            "grid_template_areas": null,
            "object_position": null,
            "object_fit": null,
            "grid_auto_columns": null,
            "margin": null,
            "display": null,
            "left": null
          }
        }
      }
    }
  },
  "cells": [
    {
      "cell_type": "markdown",
      "metadata": {
        "id": "view-in-github",
        "colab_type": "text"
      },
      "source": [
        "<a href=\"https://colab.research.google.com/github/YashSunidhi/2015/blob/master/Zero_Shot_Learning_for_Vaccine.ipynb\" target=\"_parent\"><img src=\"https://colab.research.google.com/assets/colab-badge.svg\" alt=\"Open In Colab\"/></a>"
      ]
    },
    {
      "cell_type": "markdown",
      "metadata": {
        "id": "CoMVvIRtMXmY",
        "colab_type": "text"
      },
      "source": [
        "# Zero-Shot Learning in Modern NLP\n",
        "> State-of-the-art NLP models for text classification without annotated data\n",
        "\n",
        "- comments: true\n",
        "\n"
      ]
    },
    {
      "cell_type": "markdown",
      "metadata": {
        "id": "j-BVPo0T0ujS",
        "colab_type": "text"
      },
      "source": [
        "> Check out our live [zero-shot topic classification demo here](https://huggingface.co/zero-shot/)."
      ]
    },
    {
      "cell_type": "markdown",
      "metadata": {
        "id": "aILhOF60WcIm",
        "colab_type": "text"
      },
      "source": [
        "Natural language processing is a very exciting field right now. In recent years, the community has begun to figure out some pretty effective methods of learning from the enormous amounts of unlabeled data available on the internet. The success of transfer learning from unsupervised models has allowed us to surpass virtually all existing benchmarks on downstream supervised learning tasks. As we continue to develop new model architectures and unsupervised learning objectives, \"state of the art\" continues to be a rapidly moving target for many tasks where large amounts of labeled data are available."
      ]
    },
    {
      "cell_type": "markdown",
      "metadata": {
        "id": "eAf3Xp-8NOef",
        "colab_type": "text"
      },
      "source": [
        "One major advantage as models continue to grow is that we see a very slow decrease in the reliance on large amounts of annotated data for downstream tasks. This week the team at Open AI released a preprint describing their largest model yet, GPT-3, with 175 billion parameters. The paper is entitled, [\"Language Models are Few-Shot Learners\"](https://arxiv.org/abs/2005.14165), and shows that extremely large language models can perform competitively on downstream tasks with far less task-specific data than would be required by smaller models."
      ]
    },
    {
      "cell_type": "markdown",
      "metadata": {
        "id": "gODiuecdQzXA",
        "colab_type": "text"
      },
      "source": [
        "![gpt3 triviahq performance](https://joeddav.github.io/blog/images/zsl/gpt3_triviahq.png \"GPT-3 few-shot performance as # of parameters grows\")"
      ]
    },
    {
      "cell_type": "markdown",
      "metadata": {
        "id": "RWAWqChT1Cna",
        "colab_type": "text"
      },
      "source": [
        "However, models of this size remain impractical for real-world use. For instance, the largest version of GPT-3 must be partitioned across dozens of GPUs to even fit in memory. In many real-world settings, annotated data is either scarse or unavailable entirely. Models much smaller than GPT-3 such as BERT have still been shown to encode a tremendous amount of information in their weights ([Petroni et al. 2019](https://arxiv.org/abs/1909.01066)). It seems like if we were smart about it, we would be able to figure out some techniques for applying these models to downstream tasks in a way that takes advantage of this latent information without the need for so much task-specific annotated data."
      ]
    },
    {
      "cell_type": "markdown",
      "metadata": {
        "id": "aHhnr-zH4pUd",
        "colab_type": "text"
      },
      "source": [
        "Of course, *some* research has in fact been done in this area. **In this post, I will present a few techniques, both from published research and our own experiments at Hugging Face, for using state-of-the-art NLP models for sequence classification without large annotated training sets.**"
      ]
    },
    {
      "cell_type": "markdown",
      "metadata": {
        "id": "1bpLsODp2FWn",
        "colab_type": "text"
      },
      "source": [
        "## What is zero-shot learning?\n",
        "\n",
        "Traditionally, zero-shot learning (ZSL) most often referred to a fairly specific type of task: learn a classifier on one set of labels and then evaluate on a different set of labels that the classifier has never seen before. Recently, especially in NLP, it's been used much more broadly to mean _get a model to do something that it wasn't explicitly trained to do._ A well-known example of this is in the [GPT-2 paper](https://pdfs.semanticscholar.org/9405/cc0d6169988371b2755e573cc28650d14dfe.pdf) where the authors evaluate a language model on downstream tasks like machine translation without fine-tuning on these tasks directly. \n",
        "\n",
        "The definition is not all that important, but it is useful to understand that the term is used in various ways and that we should therefore take care to understand the experimental setting when comparing different methods. For example, traditional zero-shot learning requires providing some kind of descriptor ([Romera-Paredes et al. 2015](http://proceedings.mlr.press/v37/romera-paredes15.pdf)) for an unseen class (such as a set of visual attributes or simply the class name) in order for a model to be able to predict that class without training data. Understanding that different zero-shot methods may adopt different rules for what kind of class descriptors are allowed provides relevant context when communicating about these techniques."
      ]
    },
    {
      "cell_type": "markdown",
      "metadata": {
        "id": "WyB_iKjvZKHS",
        "colab_type": "text"
      },
      "source": [
        "## A latent embedding approach\n",
        "\n",
        "A common approach to zero shot learning in the computer vision setting is to use an existing featurizer to embed an image and any possible class names into their corresponding latent representations (e.g. [Socher et al. 2013](https://arxiv.org/abs/1301.3666)). They can then take some training set and use only a subset of the available labels to learn a linear projection to align the image and label embeddings. At test time, this framework allows one to embed any label (seen or unseen) and any image into the same latent space and measure their distance."
      ]
    },
    {
      "cell_type": "markdown",
      "metadata": {
        "id": "xCWrvjkgDOsj",
        "colab_type": "text"
      },
      "source": [
        "In the text domain, we have the advantage that we can trivially use a single model to embed both the data and the class names into the same space, eliminating the need for the data-hungry alignment step. This is not a new technique – researchers and practitioners have used pooled word vectors in similar ways for some time (such as [Veeranna et al. 2016](https://www.elen.ucl.ac.be/Proceedings/esann/esannpdf/es2016-174.pdf)). But recently we have seen a dramatic increase in the quality of sentence embedding models. We therefore decided to run some experiments with Sentence-BERT, a recent technique which fine-tunes the pooled BERT sequence representations for increased semantic richness, as a method for obtaining sequence and label embeddings."
      ]
    },
    {
      "cell_type": "markdown",
      "metadata": {
        "id": "xtjEN4srCPP3",
        "colab_type": "text"
      },
      "source": [
        "To formalize this, suppose we have a sequence embedding model $\\Phi_\\text{sent}$ and set of possible class names $C$. We classify a given sequence $x$ according to,\n",
        "\n",
        "$$\n",
        "\\hat{c} = \\arg\\max_{c \\in C} \\cos(\\Phi_\\text{sent}(x), \\Phi_\\text{sent}(c))\n",
        "$$\n",
        "\n",
        "where $\\cos$ is the cosine similarity. Here's an example code snippet showing how this can be done using Sentence-BERT as our embedding model $\\Phi_\\text{sent}$:"
      ]
    },
    {
      "cell_type": "code",
      "metadata": {
        "id": "S6T6rRDBuKkh",
        "colab_type": "code",
        "colab": {
          "base_uri": "https://localhost:8080/",
          "height": 882,
          "referenced_widgets": [
            "ce04a1026b4946498b874c0f6741fccb",
            "64e4cd983301495d9d73c7a3f697d2d5",
            "4c261581ebc244878bb234b471b21592",
            "556fd6f7baa24131ade90173e30cfd1c",
            "95a4e79499934c68855aef34766ff450",
            "bf094a64973e43f49d1b17e7ae3a2f3f",
            "5e901ac1b25244958553dd7ee44e10f3",
            "22d07f541db944c0bf399b91ce05a6da",
            "f8a0c0f3794b4e4283313fb24d239418",
            "008e3b99967749dda334461c46a8258f",
            "dc8c8662cd1b4d6294689dbf474f3a7d",
            "a9aa07c4bd8141b4b80c63f8ce81d5f5",
            "e50fc6efcfcd4837a5cd1dd53ba03a4c",
            "50fd5b8b80ff472585a1d79cdad6f82a",
            "5336359d085444fe900e1b138808cab8",
            "366319b2eaf54b77b2e83ba6e3153cae",
            "953b5c7e47a8422d82786d7c59bd13ad",
            "71499a82d4c7458498bc1074eebc7492",
            "78453a8b733b40dfbf789579dd0f28ef",
            "ae33e7deb0e942668e9fb7015b1f9eed",
            "8d43afe7637043de9d50c3a7b009c37c",
            "6f002ce208f841f3b3800558e56ccf0a",
            "133fc2329db4499894af22821fbbe564",
            "860adccd92b04fa0ad2a13c120c8a72f",
            "b08d4c650dd745c3ac031c875cf707eb",
            "1cfc37a4ff6643ab910a99590bb8d7cb",
            "0e86c2fd7a574ef1b4b1a4e86cb9ae2b",
            "93e778952b8d468bb672bb0fa10ea373",
            "5aa686a97bf24b7f8abfc4318a9a7fef",
            "4c986a6f7c4d4e7c9f9dbe06876b3503",
            "7341fd8740644a84bb8b5bb7c7994aa1",
            "27a1cc4efb184d818132c9710fe104e6",
            "6be37b6153fc4f209d69e2cf424ca8a9",
            "9f3546693bde4b6c8ba739651a232b57",
            "34377240323d4f64bcfe749d6fdaf217",
            "ff490bae374148bcb504aff0c8d993b1",
            "61e9e3353f484a999ef0d126c499ca56",
            "e1a5801e8e3a402397b2c39e3fbaabdd",
            "e8161349f08d4fc583aec1a54a2ea614",
            "64b5dda43a324aa0a606842b2245e969"
          ]
        },
        "outputId": "b55c59b6-1288-43f9-87de-41ae50a7cde4"
      },
      "source": [
        "# load the sentence-bert model from the HuggingFace model hub\n",
        "!pip install transformers\n",
        "from transformers import AutoTokenizer, AutoModel\n",
        "from torch.nn import functional as F\n",
        "tokenizer = AutoTokenizer.from_pretrained('deepset/sentence_bert')\n",
        "model = AutoModel.from_pretrained('deepset/sentence_bert')\n",
        "\n",
        "sentence = 'Who are you voting for in 2020?'\n",
        "labels = ['business', 'art & culture', 'politics']\n",
        "\n",
        "# run inputs through model and mean-pool over the sequence\n",
        "# dimension to get sequence-level representations\n",
        "inputs = tokenizer.batch_encode_plus([sentence] + labels,\n",
        "                                     return_tensors='pt',\n",
        "                                     pad_to_max_length=True)\n",
        "input_ids = inputs['input_ids']\n",
        "attention_mask = inputs['attention_mask']\n",
        "output = model(input_ids, attention_mask=attention_mask)[0]\n",
        "sentence_rep = output[:1].mean(dim=1)\n",
        "label_reps = output[1:].mean(dim=1)\n",
        "\n",
        "# now find the labels with the highest cosine similarities to\n",
        "# the sentence\n",
        "similarities = F.cosine_similarity(sentence_rep, label_reps)\n",
        "closest = similarities.argsort(descending=True)\n",
        "for ind in closest:\n",
        "    print(f'label: {labels[ind]} \\t similarity: {similarities[ind]}')"
      ],
      "execution_count": 1,
      "outputs": [
        {
          "output_type": "stream",
          "text": [
            "Collecting transformers\n",
            "\u001b[?25l  Downloading https://files.pythonhosted.org/packages/27/3c/91ed8f5c4e7ef3227b4119200fc0ed4b4fd965b1f0172021c25701087825/transformers-3.0.2-py3-none-any.whl (769kB)\n",
            "\u001b[K     |████████████████████████████████| 778kB 2.7MB/s \n",
            "\u001b[?25hRequirement already satisfied: requests in /usr/local/lib/python3.6/dist-packages (from transformers) (2.23.0)\n",
            "Requirement already satisfied: regex!=2019.12.17 in /usr/local/lib/python3.6/dist-packages (from transformers) (2019.12.20)\n",
            "Collecting tokenizers==0.8.1.rc1\n",
            "\u001b[?25l  Downloading https://files.pythonhosted.org/packages/40/d0/30d5f8d221a0ed981a186c8eb986ce1c94e3a6e87f994eae9f4aa5250217/tokenizers-0.8.1rc1-cp36-cp36m-manylinux1_x86_64.whl (3.0MB)\n",
            "\u001b[K     |████████████████████████████████| 3.0MB 12.7MB/s \n",
            "\u001b[?25hRequirement already satisfied: dataclasses; python_version < \"3.7\" in /usr/local/lib/python3.6/dist-packages (from transformers) (0.7)\n",
            "Requirement already satisfied: tqdm>=4.27 in /usr/local/lib/python3.6/dist-packages (from transformers) (4.41.1)\n",
            "Collecting sacremoses\n",
            "\u001b[?25l  Downloading https://files.pythonhosted.org/packages/7d/34/09d19aff26edcc8eb2a01bed8e98f13a1537005d31e95233fd48216eed10/sacremoses-0.0.43.tar.gz (883kB)\n",
            "\u001b[K     |████████████████████████████████| 890kB 33.4MB/s \n",
            "\u001b[?25hRequirement already satisfied: numpy in /usr/local/lib/python3.6/dist-packages (from transformers) (1.18.5)\n",
            "Requirement already satisfied: packaging in /usr/local/lib/python3.6/dist-packages (from transformers) (20.4)\n",
            "Collecting sentencepiece!=0.1.92\n",
            "\u001b[?25l  Downloading https://files.pythonhosted.org/packages/d4/a4/d0a884c4300004a78cca907a6ff9a5e9fe4f090f5d95ab341c53d28cbc58/sentencepiece-0.1.91-cp36-cp36m-manylinux1_x86_64.whl (1.1MB)\n",
            "\u001b[K     |████████████████████████████████| 1.1MB 23.0MB/s \n",
            "\u001b[?25hRequirement already satisfied: filelock in /usr/local/lib/python3.6/dist-packages (from transformers) (3.0.12)\n",
            "Requirement already satisfied: certifi>=2017.4.17 in /usr/local/lib/python3.6/dist-packages (from requests->transformers) (2020.6.20)\n",
            "Requirement already satisfied: idna<3,>=2.5 in /usr/local/lib/python3.6/dist-packages (from requests->transformers) (2.9)\n",
            "Requirement already satisfied: chardet<4,>=3.0.2 in /usr/local/lib/python3.6/dist-packages (from requests->transformers) (3.0.4)\n",
            "Requirement already satisfied: urllib3!=1.25.0,!=1.25.1,<1.26,>=1.21.1 in /usr/local/lib/python3.6/dist-packages (from requests->transformers) (1.24.3)\n",
            "Requirement already satisfied: six in /usr/local/lib/python3.6/dist-packages (from sacremoses->transformers) (1.12.0)\n",
            "Requirement already satisfied: click in /usr/local/lib/python3.6/dist-packages (from sacremoses->transformers) (7.1.2)\n",
            "Requirement already satisfied: joblib in /usr/local/lib/python3.6/dist-packages (from sacremoses->transformers) (0.15.1)\n",
            "Requirement already satisfied: pyparsing>=2.0.2 in /usr/local/lib/python3.6/dist-packages (from packaging->transformers) (2.4.7)\n",
            "Building wheels for collected packages: sacremoses\n",
            "  Building wheel for sacremoses (setup.py) ... \u001b[?25l\u001b[?25hdone\n",
            "  Created wheel for sacremoses: filename=sacremoses-0.0.43-cp36-none-any.whl size=893260 sha256=34775916b7dd8f540cabffbb5631d2c2a27e16499814c1a3c21727394d51b100\n",
            "  Stored in directory: /root/.cache/pip/wheels/29/3c/fd/7ce5c3f0666dab31a50123635e6fb5e19ceb42ce38d4e58f45\n",
            "Successfully built sacremoses\n",
            "Installing collected packages: tokenizers, sacremoses, sentencepiece, transformers\n",
            "Successfully installed sacremoses-0.0.43 sentencepiece-0.1.91 tokenizers-0.8.1rc1 transformers-3.0.2\n"
          ],
          "name": "stdout"
        },
        {
          "output_type": "display_data",
          "data": {
            "application/vnd.jupyter.widget-view+json": {
              "model_id": "ce04a1026b4946498b874c0f6741fccb",
              "version_minor": 0,
              "version_major": 2
            },
            "text/plain": [
              "HBox(children=(FloatProgress(value=0.0, description='Downloading', max=385.0, style=ProgressStyle(description_…"
            ]
          },
          "metadata": {
            "tags": []
          }
        },
        {
          "output_type": "stream",
          "text": [
            "\n"
          ],
          "name": "stdout"
        },
        {
          "output_type": "display_data",
          "data": {
            "application/vnd.jupyter.widget-view+json": {
              "model_id": "f8a0c0f3794b4e4283313fb24d239418",
              "version_minor": 0,
              "version_major": 2
            },
            "text/plain": [
              "HBox(children=(FloatProgress(value=0.0, description='Downloading', max=231508.0, style=ProgressStyle(descripti…"
            ]
          },
          "metadata": {
            "tags": []
          }
        },
        {
          "output_type": "stream",
          "text": [
            "\n"
          ],
          "name": "stdout"
        },
        {
          "output_type": "display_data",
          "data": {
            "application/vnd.jupyter.widget-view+json": {
              "model_id": "953b5c7e47a8422d82786d7c59bd13ad",
              "version_minor": 0,
              "version_major": 2
            },
            "text/plain": [
              "HBox(children=(FloatProgress(value=0.0, description='Downloading', max=2.0, style=ProgressStyle(description_wi…"
            ]
          },
          "metadata": {
            "tags": []
          }
        },
        {
          "output_type": "stream",
          "text": [
            "\n"
          ],
          "name": "stdout"
        },
        {
          "output_type": "display_data",
          "data": {
            "application/vnd.jupyter.widget-view+json": {
              "model_id": "b08d4c650dd745c3ac031c875cf707eb",
              "version_minor": 0,
              "version_major": 2
            },
            "text/plain": [
              "HBox(children=(FloatProgress(value=0.0, description='Downloading', max=112.0, style=ProgressStyle(description_…"
            ]
          },
          "metadata": {
            "tags": []
          }
        },
        {
          "output_type": "stream",
          "text": [
            "\n"
          ],
          "name": "stdout"
        },
        {
          "output_type": "display_data",
          "data": {
            "application/vnd.jupyter.widget-view+json": {
              "model_id": "6be37b6153fc4f209d69e2cf424ca8a9",
              "version_minor": 0,
              "version_major": 2
            },
            "text/plain": [
              "HBox(children=(FloatProgress(value=0.0, description='Downloading', max=438006864.0, style=ProgressStyle(descri…"
            ]
          },
          "metadata": {
            "tags": []
          }
        },
        {
          "output_type": "stream",
          "text": [
            "\n",
            "label: politics \t similarity: 0.21561521291732788\n",
            "label: business \t similarity: 0.004524140153080225\n",
            "label: art & culture \t similarity: -0.027396833524107933\n"
          ],
          "name": "stdout"
        }
      ]
    },
    {
      "cell_type": "code",
      "metadata": {
        "id": "rNVVxVUsb24Q",
        "colab_type": "code",
        "colab": {
          "base_uri": "https://localhost:8080/",
          "height": 614
        },
        "outputId": "51006f2e-462c-483a-f179-982aad29fa70"
      },
      "source": [
        "import pandas as pd\n",
        "df = pd.read_csv(r\"/content/vaccine_bx.csv\",encoding = 'ISO-8859-1')\n",
        "df.head()"
      ],
      "execution_count": 3,
      "outputs": [
        {
          "output_type": "execute_result",
          "data": {
            "text/html": [
              "<div>\n",
              "<style scoped>\n",
              "    .dataframe tbody tr th:only-of-type {\n",
              "        vertical-align: middle;\n",
              "    }\n",
              "\n",
              "    .dataframe tbody tr th {\n",
              "        vertical-align: top;\n",
              "    }\n",
              "\n",
              "    .dataframe thead th {\n",
              "        text-align: right;\n",
              "    }\n",
              "</style>\n",
              "<table border=\"1\" class=\"dataframe\">\n",
              "  <thead>\n",
              "    <tr style=\"text-align: right;\">\n",
              "      <th></th>\n",
              "      <th>Entry Name</th>\n",
              "      <th>Type of Entry</th>\n",
              "      <th>Country</th>\n",
              "      <th>Date</th>\n",
              "      <th>Month</th>\n",
              "      <th>EE - Level of Expertise</th>\n",
              "      <th>HCP Specialty</th>\n",
              "      <th>Role</th>\n",
              "      <th>Text Description</th>\n",
              "      <th>Topic</th>\n",
              "      <th>CONTROL</th>\n",
              "      <th>RWE UK Program</th>\n",
              "      <th>RWE Quebec</th>\n",
              "      <th>Positive Data</th>\n",
              "      <th>Negative Data</th>\n",
              "      <th>Data supports value of VAX/prescription</th>\n",
              "      <th>Data supports inclusion in NIP</th>\n",
              "      <th>Data does not support inclusion in NIP</th>\n",
              "      <th>Safety data is relevant</th>\n",
              "      <th>Reactions to Impact data</th>\n",
              "      <th>Impact data exceeds expectations</th>\n",
              "      <th>Impact data in line with expectations</th>\n",
              "      <th>Reaction to Effectiveness data</th>\n",
              "      <th>Effectiveness data is acceptable</th>\n",
              "      <th>Effectiveness data is disappointing</th>\n",
              "      <th>Impact better indicator than effectiveness</th>\n",
              "      <th>Data Difficulty to understand</th>\n",
              "      <th>Understand difference impact vs effectiveness</th>\n",
              "      <th>Reactions to lack of herd immunity</th>\n",
              "      <th>Lack of herd immunity is acceptable</th>\n",
              "      <th>Lack of herd immunity is a concern</th>\n",
              "      <th>Uncertainty on booster dosage</th>\n",
              "      <th>Need for local RWE programs</th>\n",
              "      <th>Reactions to Australian Carriage Data</th>\n",
              "      <th>MATS concept</th>\n",
              "      <th>More data needed</th>\n",
              "      <th>May Label Update</th>\n",
              "      <th>Asking for articles / education materials</th>\n",
              "      <th>Raising the need for education (Patients/parents/HCPs)</th>\n",
              "      <th>Safety / AE</th>\n",
              "      <th>Thermostability/ Cold chain breach</th>\n",
              "      <th>Co-adminstration</th>\n",
              "      <th>Administration site/route</th>\n",
              "      <th>Dosing schedule/ Intervals between dosages</th>\n",
              "      <th>2+1 vs. 3+1 schedule</th>\n",
              "      <th>Duration of immunity / immuno persistence</th>\n",
              "      <th>Administration after expiration/ open package</th>\n",
              "      <th>Access / Reimbursement</th>\n",
              "      <th>Specific patient populations</th>\n",
              "      <th>Extend vaccination to other cohorts</th>\n",
              "      <th>Bexsero vs. Trumenba</th>\n",
              "      <th>Vaccine content / ingredients</th>\n",
              "      <th>Other</th>\n",
              "      <th>COVID impact?</th>\n",
              "    </tr>\n",
              "  </thead>\n",
              "  <tbody>\n",
              "    <tr>\n",
              "      <th>0</th>\n",
              "      <td>KMI000006679_EU_PL</td>\n",
              "      <td>mVOC</td>\n",
              "      <td>Poland</td>\n",
              "      <td>4/7/2020</td>\n",
              "      <td>4</td>\n",
              "      <td>Non-EE</td>\n",
              "      <td>Immunology</td>\n",
              "      <td>EE</td>\n",
              "      <td>According to EE, phe data is relevant and supp...</td>\n",
              "      <td>Guidelines / Disease State</td>\n",
              "      <td>4</td>\n",
              "      <td>1.0</td>\n",
              "      <td>NaN</td>\n",
              "      <td>1.0</td>\n",
              "      <td>NaN</td>\n",
              "      <td>1.0</td>\n",
              "      <td>NaN</td>\n",
              "      <td>NaN</td>\n",
              "      <td>NaN</td>\n",
              "      <td>NaN</td>\n",
              "      <td>NaN</td>\n",
              "      <td>NaN</td>\n",
              "      <td>NaN</td>\n",
              "      <td>NaN</td>\n",
              "      <td>NaN</td>\n",
              "      <td>NaN</td>\n",
              "      <td>NaN</td>\n",
              "      <td>NaN</td>\n",
              "      <td>NaN</td>\n",
              "      <td>NaN</td>\n",
              "      <td>NaN</td>\n",
              "      <td>NaN</td>\n",
              "      <td>NaN</td>\n",
              "      <td>NaN</td>\n",
              "      <td>NaN</td>\n",
              "      <td>NaN</td>\n",
              "      <td>NaN</td>\n",
              "      <td>NaN</td>\n",
              "      <td>NaN</td>\n",
              "      <td>NaN</td>\n",
              "      <td>NaN</td>\n",
              "      <td>NaN</td>\n",
              "      <td>NaN</td>\n",
              "      <td>NaN</td>\n",
              "      <td>NaN</td>\n",
              "      <td>NaN</td>\n",
              "      <td>NaN</td>\n",
              "      <td>NaN</td>\n",
              "      <td>1.0</td>\n",
              "      <td>NaN</td>\n",
              "      <td>NaN</td>\n",
              "      <td>NaN</td>\n",
              "      <td>NaN</td>\n",
              "      <td>NaN</td>\n",
              "    </tr>\n",
              "    <tr>\n",
              "      <th>1</th>\n",
              "      <td>KMI000018186_BIGEU_ES</td>\n",
              "      <td>mVOC</td>\n",
              "      <td>Spain</td>\n",
              "      <td>4/1/2020</td>\n",
              "      <td>4</td>\n",
              "      <td>Non-EE</td>\n",
              "      <td>NaN</td>\n",
              "      <td>Specialist</td>\n",
              "      <td>Data from UK are apparently robust, so we need...</td>\n",
              "      <td>Guidelines / Disease State</td>\n",
              "      <td>3</td>\n",
              "      <td>1.0</td>\n",
              "      <td>NaN</td>\n",
              "      <td>1.0</td>\n",
              "      <td>NaN</td>\n",
              "      <td>NaN</td>\n",
              "      <td>NaN</td>\n",
              "      <td>NaN</td>\n",
              "      <td>NaN</td>\n",
              "      <td>NaN</td>\n",
              "      <td>NaN</td>\n",
              "      <td>NaN</td>\n",
              "      <td>NaN</td>\n",
              "      <td>NaN</td>\n",
              "      <td>NaN</td>\n",
              "      <td>NaN</td>\n",
              "      <td>NaN</td>\n",
              "      <td>NaN</td>\n",
              "      <td>NaN</td>\n",
              "      <td>NaN</td>\n",
              "      <td>NaN</td>\n",
              "      <td>NaN</td>\n",
              "      <td>NaN</td>\n",
              "      <td>1.0</td>\n",
              "      <td>NaN</td>\n",
              "      <td>NaN</td>\n",
              "      <td>NaN</td>\n",
              "      <td>NaN</td>\n",
              "      <td>NaN</td>\n",
              "      <td>NaN</td>\n",
              "      <td>NaN</td>\n",
              "      <td>NaN</td>\n",
              "      <td>NaN</td>\n",
              "      <td>NaN</td>\n",
              "      <td>NaN</td>\n",
              "      <td>NaN</td>\n",
              "      <td>NaN</td>\n",
              "      <td>NaN</td>\n",
              "      <td>NaN</td>\n",
              "      <td>NaN</td>\n",
              "      <td>NaN</td>\n",
              "      <td>NaN</td>\n",
              "      <td>NaN</td>\n",
              "      <td>NaN</td>\n",
              "    </tr>\n",
              "    <tr>\n",
              "      <th>2</th>\n",
              "      <td>KMI000018187_BIGEU_ES</td>\n",
              "      <td>mVOC</td>\n",
              "      <td>Spain</td>\n",
              "      <td>4/1/2020</td>\n",
              "      <td>4</td>\n",
              "      <td>Non-EE</td>\n",
              "      <td>NaN</td>\n",
              "      <td>Specialist</td>\n",
              "      <td>In Italy there are effectiveness data with Bex...</td>\n",
              "      <td>Other</td>\n",
              "      <td>1</td>\n",
              "      <td>1.0</td>\n",
              "      <td>NaN</td>\n",
              "      <td>NaN</td>\n",
              "      <td>NaN</td>\n",
              "      <td>NaN</td>\n",
              "      <td>NaN</td>\n",
              "      <td>NaN</td>\n",
              "      <td>NaN</td>\n",
              "      <td>NaN</td>\n",
              "      <td>NaN</td>\n",
              "      <td>NaN</td>\n",
              "      <td>NaN</td>\n",
              "      <td>NaN</td>\n",
              "      <td>NaN</td>\n",
              "      <td>NaN</td>\n",
              "      <td>NaN</td>\n",
              "      <td>NaN</td>\n",
              "      <td>NaN</td>\n",
              "      <td>NaN</td>\n",
              "      <td>NaN</td>\n",
              "      <td>NaN</td>\n",
              "      <td>NaN</td>\n",
              "      <td>NaN</td>\n",
              "      <td>NaN</td>\n",
              "      <td>NaN</td>\n",
              "      <td>NaN</td>\n",
              "      <td>NaN</td>\n",
              "      <td>NaN</td>\n",
              "      <td>NaN</td>\n",
              "      <td>NaN</td>\n",
              "      <td>NaN</td>\n",
              "      <td>NaN</td>\n",
              "      <td>NaN</td>\n",
              "      <td>NaN</td>\n",
              "      <td>NaN</td>\n",
              "      <td>NaN</td>\n",
              "      <td>NaN</td>\n",
              "      <td>NaN</td>\n",
              "      <td>NaN</td>\n",
              "      <td>NaN</td>\n",
              "      <td>NaN</td>\n",
              "      <td>NaN</td>\n",
              "      <td>NaN</td>\n",
              "    </tr>\n",
              "    <tr>\n",
              "      <th>3</th>\n",
              "      <td>KMI000018188_BIGEU_ES</td>\n",
              "      <td>mVOC</td>\n",
              "      <td>Spain</td>\n",
              "      <td>4/1/2020</td>\n",
              "      <td>4</td>\n",
              "      <td>Non-EE</td>\n",
              "      <td>NaN</td>\n",
              "      <td>Payor</td>\n",
              "      <td>Cross protection to other serogroups could it ...</td>\n",
              "      <td>Other</td>\n",
              "      <td>1</td>\n",
              "      <td>NaN</td>\n",
              "      <td>NaN</td>\n",
              "      <td>NaN</td>\n",
              "      <td>NaN</td>\n",
              "      <td>NaN</td>\n",
              "      <td>NaN</td>\n",
              "      <td>NaN</td>\n",
              "      <td>NaN</td>\n",
              "      <td>NaN</td>\n",
              "      <td>NaN</td>\n",
              "      <td>NaN</td>\n",
              "      <td>NaN</td>\n",
              "      <td>NaN</td>\n",
              "      <td>NaN</td>\n",
              "      <td>NaN</td>\n",
              "      <td>NaN</td>\n",
              "      <td>NaN</td>\n",
              "      <td>NaN</td>\n",
              "      <td>NaN</td>\n",
              "      <td>NaN</td>\n",
              "      <td>NaN</td>\n",
              "      <td>NaN</td>\n",
              "      <td>NaN</td>\n",
              "      <td>NaN</td>\n",
              "      <td>NaN</td>\n",
              "      <td>NaN</td>\n",
              "      <td>NaN</td>\n",
              "      <td>NaN</td>\n",
              "      <td>NaN</td>\n",
              "      <td>NaN</td>\n",
              "      <td>NaN</td>\n",
              "      <td>NaN</td>\n",
              "      <td>NaN</td>\n",
              "      <td>NaN</td>\n",
              "      <td>NaN</td>\n",
              "      <td>NaN</td>\n",
              "      <td>NaN</td>\n",
              "      <td>1.0</td>\n",
              "      <td>NaN</td>\n",
              "      <td>NaN</td>\n",
              "      <td>NaN</td>\n",
              "      <td>NaN</td>\n",
              "      <td>NaN</td>\n",
              "    </tr>\n",
              "    <tr>\n",
              "      <th>4</th>\n",
              "      <td>KMI000018189_BIGEU_ES</td>\n",
              "      <td>mVOC</td>\n",
              "      <td>Spain</td>\n",
              "      <td>4/1/2020</td>\n",
              "      <td>4</td>\n",
              "      <td>Non-EE</td>\n",
              "      <td>NaN</td>\n",
              "      <td>Payor</td>\n",
              "      <td>If we can appreciate an impact to serogroups W...</td>\n",
              "      <td>Guidelines / Disease State</td>\n",
              "      <td>4</td>\n",
              "      <td>NaN</td>\n",
              "      <td>NaN</td>\n",
              "      <td>NaN</td>\n",
              "      <td>NaN</td>\n",
              "      <td>1.0</td>\n",
              "      <td>NaN</td>\n",
              "      <td>NaN</td>\n",
              "      <td>NaN</td>\n",
              "      <td>NaN</td>\n",
              "      <td>NaN</td>\n",
              "      <td>NaN</td>\n",
              "      <td>NaN</td>\n",
              "      <td>NaN</td>\n",
              "      <td>NaN</td>\n",
              "      <td>NaN</td>\n",
              "      <td>NaN</td>\n",
              "      <td>NaN</td>\n",
              "      <td>1.0</td>\n",
              "      <td>NaN</td>\n",
              "      <td>NaN</td>\n",
              "      <td>NaN</td>\n",
              "      <td>NaN</td>\n",
              "      <td>1.0</td>\n",
              "      <td>NaN</td>\n",
              "      <td>NaN</td>\n",
              "      <td>NaN</td>\n",
              "      <td>NaN</td>\n",
              "      <td>NaN</td>\n",
              "      <td>NaN</td>\n",
              "      <td>NaN</td>\n",
              "      <td>NaN</td>\n",
              "      <td>NaN</td>\n",
              "      <td>NaN</td>\n",
              "      <td>NaN</td>\n",
              "      <td>NaN</td>\n",
              "      <td>NaN</td>\n",
              "      <td>NaN</td>\n",
              "      <td>1.0</td>\n",
              "      <td>NaN</td>\n",
              "      <td>NaN</td>\n",
              "      <td>NaN</td>\n",
              "      <td>NaN</td>\n",
              "      <td>NaN</td>\n",
              "    </tr>\n",
              "  </tbody>\n",
              "</table>\n",
              "</div>"
            ],
            "text/plain": [
              "              Entry Name Type of Entry  ... Other COVID impact?\n",
              "0     KMI000006679_EU_PL          mVOC  ...   NaN           NaN\n",
              "1  KMI000018186_BIGEU_ES          mVOC  ...   NaN           NaN\n",
              "2  KMI000018187_BIGEU_ES          mVOC  ...   NaN           NaN\n",
              "3  KMI000018188_BIGEU_ES          mVOC  ...   NaN           NaN\n",
              "4  KMI000018189_BIGEU_ES          mVOC  ...   NaN           NaN\n",
              "\n",
              "[5 rows x 54 columns]"
            ]
          },
          "metadata": {
            "tags": []
          },
          "execution_count": 3
        }
      ]
    },
    {
      "cell_type": "code",
      "metadata": {
        "id": "4_7RXI78b2kv",
        "colab_type": "code",
        "colab": {}
      },
      "source": [
        "columns = [ 'RWE UK Program', 'RWE Quebec', 'Positive Data',\n",
        "       'Negative Data', 'Data supports value of VAX/prescription',\n",
        "       'Data supports inclusion in NIP',\n",
        "       'Data does not support inclusion in NIP', 'Safety data is relevant',\n",
        "       'Reactions to Impact data', 'Impact data exceeds expectations',\n",
        "       'Impact data in line with expectations',\n",
        "       'Reaction to Effectiveness data', 'Effectiveness data is acceptable',\n",
        "       'Effectiveness data is disappointing',\n",
        "       'Impact better indicator than effectiveness',\n",
        "       'Data Difficulty to understand',\n",
        "       'Understand difference impact vs effectiveness',\n",
        "       'Reactions to lack of herd immunity',\n",
        "       'Lack of herd immunity is acceptable',\n",
        "       'Lack of herd immunity is a concern', 'Uncertainty on booster dosage',\n",
        "       'Need for local RWE programs', 'Reactions to Australian Carriage Data',\n",
        "       'MATS concept', 'More data needed', 'May Label Update',\n",
        "       'Asking for articles / education materials',\n",
        "       'Raising the need for education (Patients/parents/HCPs)', 'Safety / AE',\n",
        "       'Thermostability/ Cold chain breach', 'Co-adminstration',\n",
        "       'Administration site/route',\n",
        "       'Dosing schedule/ Intervals between dosages', '2+1 vs. 3+1 schedule',\n",
        "       'Duration of immunity / immuno persistence',\n",
        "       'Administration after expiration/ open package',\n",
        "       'Access / Reimbursement', 'Specific patient populations',\n",
        "       'Extend vaccination to other cohorts', 'Bexsero vs. Trumenba',\n",
        "       'Vaccine content / ingredients', 'Other', 'COVID impact?']"
      ],
      "execution_count": 4,
      "outputs": []
    },
    {
      "cell_type": "code",
      "metadata": {
        "id": "kB-uHyRkcHNx",
        "colab_type": "code",
        "colab": {
          "base_uri": "https://localhost:8080/",
          "height": 34
        },
        "outputId": "bdc1b97e-bade-47e4-d110-1874348d287a"
      },
      "source": [
        "df['Text Description'][1023]"
      ],
      "execution_count": 10,
      "outputs": [
        {
          "output_type": "execute_result",
          "data": {
            "application/vnd.google.colaboratory.intrinsic": {
              "type": "string"
            },
            "text/plain": [
              "'With the decline in coverage, it will be crucial to regain the importance of vaccination by losing the fear of going to the health center, with the possibility of making clean vaccination circuits.'"
            ]
          },
          "metadata": {
            "tags": []
          },
          "execution_count": 10
        }
      ]
    },
    {
      "cell_type": "code",
      "metadata": {
        "id": "xwQwB1Vob8I3",
        "colab_type": "code",
        "colab": {
          "base_uri": "https://localhost:8080/",
          "height": 739
        },
        "outputId": "a8b00927-3888-4b2a-fed2-1afd3d3b3620"
      },
      "source": [
        "sentence = df['Text Description'][1064]\n",
        "labels = columns\n",
        "\n",
        "# run inputs through model and mean-pool over the sequence\n",
        "# dimension to get sequence-level representations\n",
        "inputs = tokenizer.batch_encode_plus([sentence] + labels,\n",
        "                                     return_tensors='pt',\n",
        "                                     pad_to_max_length=True)\n",
        "input_ids = inputs['input_ids']\n",
        "attention_mask = inputs['attention_mask']\n",
        "output = model(input_ids, attention_mask=attention_mask)[0]\n",
        "sentence_rep = output[:1].mean(dim=1)\n",
        "label_reps = output[1:].mean(dim=1)\n",
        "\n",
        "# now find the labels with the highest cosine similarities to\n",
        "# the sentence\n",
        "similarities = F.cosine_similarity(sentence_rep, label_reps)\n",
        "closest = similarities.argsort(descending=True)\n",
        "for ind in closest:\n",
        "    print(f'label: {labels[ind]} \\t similarity: {similarities[ind]}')"
      ],
      "execution_count": 12,
      "outputs": [
        {
          "output_type": "stream",
          "text": [
            "label: Raising the need for education (Patients/parents/HCPs) \t similarity: 0.44156184792518616\n",
            "label: Extend vaccination to other cohorts \t similarity: 0.3428254723548889\n",
            "label: Vaccine content / ingredients \t similarity: 0.3280758559703827\n",
            "label: 2+1 vs. 3+1 schedule \t similarity: 0.30823031067848206\n",
            "label: Dosing schedule/ Intervals between dosages \t similarity: 0.2507975101470947\n",
            "label: Administration after expiration/ open package \t similarity: 0.24126644432544708\n",
            "label: Specific patient populations \t similarity: 0.22698697447776794\n",
            "label: Data supports value of VAX/prescription \t similarity: 0.21351833641529083\n",
            "label: Need for local RWE programs \t similarity: 0.18467356264591217\n",
            "label: Reaction to Effectiveness data \t similarity: 0.17825071513652802\n",
            "label: More data needed \t similarity: 0.17810632288455963\n",
            "label: Reactions to Australian Carriage Data \t similarity: 0.1611434817314148\n",
            "label: Asking for articles / education materials \t similarity: 0.1603560894727707\n",
            "label: May Label Update \t similarity: 0.16034604609012604\n",
            "label: RWE UK Program \t similarity: 0.14198710024356842\n",
            "label: Thermostability/ Cold chain breach \t similarity: 0.13309723138809204\n",
            "label: Administration site/route \t similarity: 0.12972602248191833\n",
            "label: Safety data is relevant \t similarity: 0.11333255469799042\n",
            "label: Data supports inclusion in NIP \t similarity: 0.11158580332994461\n",
            "label: MATS concept \t similarity: 0.10516265779733658\n",
            "label: Reactions to lack of herd immunity \t similarity: 0.10146169364452362\n",
            "label: Duration of immunity / immuno persistence \t similarity: 0.10145614296197891\n",
            "label: Bexsero vs. Trumenba \t similarity: 0.09587834775447845\n",
            "label: Understand difference impact vs effectiveness \t similarity: 0.0950813814997673\n",
            "label: Safety / AE \t similarity: 0.08540080487728119\n",
            "label: Reactions to Impact data \t similarity: 0.0838603526353836\n",
            "label: Access / Reimbursement \t similarity: 0.08237107843160629\n",
            "label: Data Difficulty to understand \t similarity: 0.07273230701684952\n",
            "label: Lack of herd immunity is a concern \t similarity: 0.07181846350431442\n",
            "label: RWE Quebec \t similarity: 0.06846901029348373\n",
            "label: Uncertainty on booster dosage \t similarity: 0.0654698982834816\n",
            "label: COVID impact? \t similarity: 0.06386411935091019\n",
            "label: Lack of herd immunity is acceptable \t similarity: 0.057713720947504044\n",
            "label: Impact data exceeds expectations \t similarity: 0.05677738040685654\n",
            "label: Effectiveness data is disappointing \t similarity: 0.051515016704797745\n",
            "label: Impact better indicator than effectiveness \t similarity: 0.04853793978691101\n",
            "label: Impact data in line with expectations \t similarity: 0.04536203294992447\n",
            "label: Effectiveness data is acceptable \t similarity: 0.02670074626803398\n",
            "label: Co-adminstration \t similarity: 0.01906535215675831\n",
            "label: Data does not support inclusion in NIP \t similarity: 0.009093600325286388\n",
            "label: Other \t similarity: -0.013287749141454697\n",
            "label: Negative Data \t similarity: -0.025348011404275894\n",
            "label: Positive Data \t similarity: -0.06631309539079666\n"
          ],
          "name": "stdout"
        }
      ]
    },
    {
      "cell_type": "markdown",
      "metadata": {
        "id": "FqoaPN__Oy8X",
        "colab_type": "text"
      },
      "source": [
        "> Note: This code snippet uses `deepset/sentence_bert` which is the smallest version of the S-BERT model. Our experiments use larger models which are currently available only in the `sentence-transformers` [GitHub repo](https://github.com/UKPLab/sentence-transformers), which we hope to make available in the Hugging Face model hub soon."
      ]
    },
    {
      "cell_type": "markdown",
      "metadata": {
        "id": "cR-X1GlDttZi",
        "colab_type": "text"
      },
      "source": [
        "One problem with this method is that Sentence-BERT is designed to learn effective sentence-level, not single- or multi-word representations like our class names. It is therefore reasonable to suppose that our label embeddings may not be as semantically salient as popular word-level embedding methods (i.e. word2vec). This is seen in the t-SNE visualization below where the data seems to cluster together by class (color) reasonably well, but the labels are poorly aligned. If we were to use word vectors as our label representations, however, we would need annotated data to learn an alignment between the S-BERT sequence representations and the word2vec label representations."
      ]
    },
    {
      "cell_type": "markdown",
      "metadata": {
        "id": "2K8GbfBPskNo",
        "colab_type": "text"
      },
      "source": [
        "![visual of S-BERT label and text embeddings](https://joeddav.github.io/blog/images/zsl/tsne_no_projection.png \"t-SNE visualization of Yahoo Answers S-BERT embeddings. Plotted points correpond to data and text boxes to corresponding labels. While some labels like 'Computers & Internet' do appear near their corresponding data clusteres in latent space, most are poorly aligned. \")\n"
      ]
    },
    {
      "cell_type": "markdown",
      "metadata": {
        "id": "pMKj8D1c_MC3",
        "colab_type": "text"
      },
      "source": [
        "In some of our own internal experiments, we addressed this issue with the following procedure:\n",
        "\n",
        "1. Take the top $K$ most frequent words $V$ in the vocabulary of a word2vec model\n",
        "2. Obtain embeddings for each word using word2vec, $\\Phi_{\\text{word}}(V)$\n",
        "3. Obtain embeddings for each word using S-BERT, $\\Phi_{\\text{sent}}(V)$\n",
        "4. Learn a least-squares linear projection matrix $Z$ with L2 regularization from $\\Phi_{\\text{sent}}(V)$ to $\\Phi_{\\text{word}}(V)$"
      ]
    },
    {
      "cell_type": "markdown",
      "metadata": {
        "id": "CSlzisyd_NDi",
        "colab_type": "text"
      },
      "source": [
        "Since we have only learned this projection for embeddings of single words, we cannot expect it to learn an effective mapping between S-BERT sequence representations and labels embedded with word2vec. Instead, we use $Z$ in our classification only as an additional transformation to S-BERT embeddings for both sequences and labels:\n",
        "\n",
        "$$\n",
        "\\hat{c} = \\arg\\max_{c \\in C} \\cos(\\Phi_{\\text{sent}}(x)Z, \\Phi_{\\text{sent}}(c)Z)\n",
        "$$\n",
        "\n",
        "This procedure can be thought of as a kind of dimensionality reduction. As seen in the t-SNE visual below, this projection makes the label embeddings much better aligned with their corresponding data clusters while maintining the superior performance of S-BERT compared to pooled word vectors. Importantly, this procedure does not require any additional data beyond a word2vec dictionary sorted by word frequency."
      ]
    },
    {
      "cell_type": "markdown",
      "metadata": {
        "id": "-mcJcAxVt00_",
        "colab_type": "text"
      },
      "source": [
        "\n",
        "On the Yahoo Answers topic classification task, we find an F1 of $46.9$ and $31.2$ with and without this projection step, respectively. For context, Yahoo Answers has 10 classes and [supervised models](https://paperswithcode.com/sota/text-classification-on-yahoo-answers) get an accuracy in the mid 70s."
      ]
    },
    {
      "cell_type": "markdown",
      "metadata": {
        "id": "mvBacuMKt1cT",
        "colab_type": "text"
      },
      "source": [
        "![visual of S-BERT + projection label and text embeddings](https://joeddav.github.io/blog/images/zsl/tsne_with_projection.png \"t-SNE visualization of embeddings with SBERT to Wordvec projection. This extra projection step results in labels which appear much closer to their corresponding data clusters compared to the previous visual.\")\n"
      ]
    },
    {
      "cell_type": "markdown",
      "metadata": {
        "id": "DqoXh9be0TT-",
        "colab_type": "text"
      },
      "source": [
        "### When some annotated data is available"
      ]
    },
    {
      "cell_type": "markdown",
      "metadata": {
        "id": "w6B68o4I1TsO",
        "colab_type": "text"
      },
      "source": [
        "This technique is flexible and easily adapted to the case where a limited amount of labeled data is available (few-shot learning) or where we have annotated data for only a subset of the classes we're interested in (traditional zero-shot learning).\n",
        "\n",
        "To do so, we can simply learn an additional least-squares projection matrix to the embeddings of any available labels from their corresponding data embeddings. However, it is important that we do so in a way that does not overfit to our limited data. Our embeddings perform well on their own, so we need to find a projection between them that learns from what training data we have while still utilizing the semantic richness of these representations.\n",
        "\n",
        "To this end, we add a variant of L2 regularization which pushes the weights towards the identity matrix rather than decreasing their norm. If we define $X_{Tr}, Y_{Tr}$ to be our training data and labels and $\\Phi(X) = \\Phi_\\text{sent}(X)Z$ to be our embedding function as described above, our regularized objective is,\n",
        "\n",
        "$$\n",
        "W^\\ast = \\arg\\min || \\Phi(X)^\\top W - \\Phi(Y) ||^2 + \\lambda ||W - \\mathbb{I}_d||^2\n",
        "$$\n",
        "\n",
        "This is equivalent to Bayesian linear regression with a Gaussian prior on the weights centered at the identity matrix and variance controlled by $\\lambda$. By pushing $W$ towards the identity matrix, we're effectively pushing the resulting projected embeddings $\\Phi(X)W^\\ast$ towards $\\Phi(X)$, which is exactly what we want to do. Informally, we have a prior belief that the best representation for our data is our embedding function $\\Phi(X)\\mathbb{I}_d=\\Phi(X)$ and we update that belief only as we encounter more training data."
      ]
    },
    {
      "cell_type": "markdown",
      "metadata": {
        "id": "AB9T-krfQ9Ip",
        "colab_type": "text"
      },
      "source": [
        "## Classification as Natural Language Inference\n",
        "\n",
        "We will now explore an alternative method which not only embeds sequences and labels into the same latent space where their distance can be measured, but that can actually tell us something about the compatibility of two distinct sequences out of the box."
      ]
    },
    {
      "cell_type": "markdown",
      "metadata": {
        "id": "QhuEYWRJT3Yq",
        "colab_type": "text"
      },
      "source": [
        "As a quick review, [natural language inference (NLI)](http://nlpprogress.com/english/natural_language_inference.html) considers two sentences: a \"premise\" and a \"hypothesis\". The task is to determine whether the hypothesis is true (entailment) or false (contradiction) given the premise."
      ]
    },
    {
      "cell_type": "markdown",
      "metadata": {
        "id": "-tV6gVKP-nV0",
        "colab_type": "text"
      },
      "source": [
        "![example NLI sentences](https://joeddav.github.io/blog/images/zsl/nli-examples.png \"Examples from http://nlpprogress.com/english/natural_language_inference.html\")"
      ]
    },
    {
      "cell_type": "markdown",
      "metadata": {
        "id": "8P0XE7ek-pZZ",
        "colab_type": "text"
      },
      "source": [
        "When using transformer architectures like BERT, NLI datasets are typically modeled via _sequence-pair classification_. That is, we feed both the premise and the hypothesis through the model together as distinct segments and learn a classification head predicting one of `[contradiction, neutral, entailment]`."
      ]
    },
    {
      "cell_type": "markdown",
      "metadata": {
        "id": "SlhGPX499BEI",
        "colab_type": "text"
      },
      "source": [
        "The approach, proposed by [Yin et al. (2019)](https://arxiv.org/abs/1909.00161), uses a pre-trained MNLI sequence-pair classifier as an out-of-the-box zero-shot text classifier that actually works pretty well. The idea is to take the sequence we're interested in labeling as the \"premise\" and to turn each candidate label into a \"hypothesis.\" If the NLI model predicts that the premise \"entails\" the hypothesis, we take the label to be true. See the code snippet below which demonstrates how easily this can be done with 🤗 Transformers."
      ]
    },
    {
      "cell_type": "code",
      "metadata": {
        "id": "La_ga8KvSFYd",
        "colab_type": "code",
        "colab": {
          "base_uri": "https://localhost:8080/",
          "height": 229,
          "referenced_widgets": [
            "5a22e16fb5df4c129c601fadec8f12fb",
            "96755397062142aaa8c93b74a8aa089f",
            "a980c25dbed54573a444fd1634e643f7",
            "63ad9cc882634871b91b051aedca4439",
            "5d08cbd09c6648b288d08754a351ef58",
            "e1c2f6e2937948a28eeafcb5b406e74c",
            "5538c1b9f9f6473c92815b34f03e82a8",
            "312a88aabeb447c3aaef630111f7abbf",
            "0b4572e123134cc9b6250ca91d604a71",
            "a8ac6a36ef8f49fe897d6ce2812c40c6",
            "7505466719b24674b5a46413dc634c78",
            "4f66368a9a824cf685b65160911c9729",
            "e0488afef9ca4836aa1e172968a1de21",
            "7d9946960e0f4288b433dbb604955656",
            "790bbb15c3df406084aa90e393b0b9e1",
            "90393da763aa46dfa701f9e0f18456b9",
            "258f982dc87448dd8a950beff8474aaf",
            "1aae3fb8e9aa48d3962e0309e55d117f",
            "d2e85ff288af4c6893a022817566ed61",
            "4992b23b3e964e46bfe98ff46404d013",
            "15ac3d2bae70469599c0f487e2abbc12",
            "4f6ec4facd6142bb8c0e17fdaca2773e",
            "b1956be3892c40a1bd6095529ffbb7ed",
            "720c39a1155b453fa880bc8ed730b5fe",
            "ce233ad7d0e64208bd639996a46de401",
            "e79c198015ab475894ddb2d0d25e548c",
            "9d57576f0adf4c3c8d4f8077e9c89a5a",
            "f6c00e518dbe465f8a18e1c2e7e40fd5",
            "a086df28ca0a47e28ee390cf59aa1782",
            "0c621368452c409c81401e2f80a61ecb",
            "96b262d3ec1d44a294449b14bd41b983",
            "61cb0b1aece240cbb0d78a2c6fa8af1d"
          ]
        },
        "outputId": "8c03f765-1399-4945-bc2c-83b14e634831"
      },
      "source": [
        "# load model pretrained on MNLI\n",
        "from transformers import BartForSequenceClassification, BartTokenizer\n",
        "# tokenizer = BartTokenizer.from_pretrained('bart-large-mnli')\n",
        "# model = BartForSequenceClassification.from_pretrained('bart-large-mnli')\n",
        "from transformers import AutoTokenizer, AutoModelForSequenceClassification\n",
        "\n",
        "# tokenizer = AutoTokenizer.from_pretrained(\"textattack/facebook-bart-large-MNLI\")\n",
        "\n",
        "# model = AutoModelForSequenceClassification.from_pretrained(\"textattack/facebook-bart-large-MNLI\")\n",
        "\n",
        "from transformers import AutoTokenizer, AutoModelForSequenceClassification\n",
        "\n",
        "tokenizer = AutoTokenizer.from_pretrained(\"roberta-large-mnli\")\n",
        "\n",
        "model = AutoModelForSequenceClassification.from_pretrained(\"roberta-large-mnli\")\n",
        "\n",
        "# pose sequence as a NLI premise and label (politics) as a hypothesis\n",
        "premise = 'Who are you voting for in 2020?'\n",
        "hypothesis = 'This text is about politics.'\n",
        "\n",
        "# run through model pre-trained on MNLI\n",
        "input_ids = tokenizer.encode(premise, hypothesis, return_tensors='pt')\n",
        "logits = model(input_ids)[0]\n",
        "\n",
        "# we throw away \"neutral\" (dim 1) and take the probability of\n",
        "# \"entailment\" (2) as the probability of the label being true \n",
        "entail_contradiction_logits = logits[:,[0,2]]\n",
        "probs = entail_contradiction_logits.softmax(dim=1)\n",
        "true_prob = probs[:,1].item() * 100\n",
        "print(f'Probability that the label is true: {true_prob:0.2f}%')"
      ],
      "execution_count": 23,
      "outputs": [
        {
          "output_type": "display_data",
          "data": {
            "application/vnd.jupyter.widget-view+json": {
              "model_id": "5a22e16fb5df4c129c601fadec8f12fb",
              "version_minor": 0,
              "version_major": 2
            },
            "text/plain": [
              "HBox(children=(FloatProgress(value=0.0, description='Downloading', max=688.0, style=ProgressStyle(description_…"
            ]
          },
          "metadata": {
            "tags": []
          }
        },
        {
          "output_type": "stream",
          "text": [
            "\n"
          ],
          "name": "stdout"
        },
        {
          "output_type": "display_data",
          "data": {
            "application/vnd.jupyter.widget-view+json": {
              "model_id": "0b4572e123134cc9b6250ca91d604a71",
              "version_minor": 0,
              "version_major": 2
            },
            "text/plain": [
              "HBox(children=(FloatProgress(value=0.0, description='Downloading', max=898823.0, style=ProgressStyle(descripti…"
            ]
          },
          "metadata": {
            "tags": []
          }
        },
        {
          "output_type": "stream",
          "text": [
            "\n"
          ],
          "name": "stdout"
        },
        {
          "output_type": "display_data",
          "data": {
            "application/vnd.jupyter.widget-view+json": {
              "model_id": "258f982dc87448dd8a950beff8474aaf",
              "version_minor": 0,
              "version_major": 2
            },
            "text/plain": [
              "HBox(children=(FloatProgress(value=0.0, description='Downloading', max=456318.0, style=ProgressStyle(descripti…"
            ]
          },
          "metadata": {
            "tags": []
          }
        },
        {
          "output_type": "stream",
          "text": [
            "\n"
          ],
          "name": "stdout"
        },
        {
          "output_type": "display_data",
          "data": {
            "application/vnd.jupyter.widget-view+json": {
              "model_id": "ce233ad7d0e64208bd639996a46de401",
              "version_minor": 0,
              "version_major": 2
            },
            "text/plain": [
              "HBox(children=(FloatProgress(value=0.0, description='Downloading', max=1425744429.0, style=ProgressStyle(descr…"
            ]
          },
          "metadata": {
            "tags": []
          }
        },
        {
          "output_type": "stream",
          "text": [
            "\n",
            "Probability that the label is true: 99.56%\n"
          ],
          "name": "stdout"
        }
      ]
    },
    {
      "cell_type": "code",
      "metadata": {
        "id": "k_Grs0eih28j",
        "colab_type": "code",
        "colab": {
          "base_uri": "https://localhost:8080/",
          "height": 34
        },
        "outputId": "d4533290-251c-4f21-9cd5-bb942117d2b4"
      },
      "source": [
        "df['Text Description'][970]"
      ],
      "execution_count": 26,
      "outputs": [
        {
          "output_type": "execute_result",
          "data": {
            "application/vnd.google.colaboratory.intrinsic": {
              "type": "string"
            },
            "text/plain": [
              "'HCP requests an event to discuss vaccine coverage during the pandemia and challenges for the production of vaccines.'"
            ]
          },
          "metadata": {
            "tags": []
          },
          "execution_count": 26
        }
      ]
    },
    {
      "cell_type": "code",
      "metadata": {
        "id": "Ux2ERKsffYTx",
        "colab_type": "code",
        "colab": {
          "base_uri": "https://localhost:8080/",
          "height": 1000
        },
        "outputId": "0f2eb4f5-c7c2-449d-f277-779de2fcddc1"
      },
      "source": [
        "\n",
        "\n",
        "# pose sequence as a NLI premise and label (politics) as a hypothesis\n",
        "for i in columns:\n",
        "  premise = df['Text Description'][962]\n",
        "  hypothesis = \"This test is about\"+\"_\"+i\n",
        "  print(i)\n",
        "\n",
        "  # run through model pre-trained on MNLI\n",
        "  input_ids = tokenizer.encode(premise, hypothesis, return_tensors='pt')\n",
        "  logits = model(input_ids)[0]\n",
        "\n",
        "  # we throw away \"neutral\" (dim 1) and take the probability of\n",
        "  # \"entailment\" (2) as the probability of the label being true \n",
        "  entail_contradiction_logits = logits[:,[0,2]]\n",
        "  probs = entail_contradiction_logits.softmax(dim=1)\n",
        "  true_prob = probs[:,1].item() * 100\n",
        "  print(f'Probability that the label is true: {true_prob:0.2f}%')"
      ],
      "execution_count": 28,
      "outputs": [
        {
          "output_type": "stream",
          "text": [
            "RWE UK Program\n",
            "Probability that the label is true: 18.09%\n",
            "RWE Quebec\n",
            "Probability that the label is true: 15.05%\n",
            "Positive Data\n",
            "Probability that the label is true: 15.46%\n",
            "Negative Data\n",
            "Probability that the label is true: 8.76%\n",
            "Data supports value of VAX/prescription\n",
            "Probability that the label is true: 28.14%\n",
            "Data supports inclusion in NIP\n",
            "Probability that the label is true: 36.63%\n",
            "Data does not support inclusion in NIP\n",
            "Probability that the label is true: 4.46%\n",
            "Safety data is relevant\n",
            "Probability that the label is true: 72.20%\n",
            "Reactions to Impact data\n",
            "Probability that the label is true: 29.30%\n",
            "Impact data exceeds expectations\n",
            "Probability that the label is true: 16.04%\n",
            "Impact data in line with expectations\n",
            "Probability that the label is true: 37.75%\n",
            "Reaction to Effectiveness data\n",
            "Probability that the label is true: 32.14%\n",
            "Effectiveness data is acceptable\n",
            "Probability that the label is true: 21.37%\n",
            "Effectiveness data is disappointing\n",
            "Probability that the label is true: 7.54%\n",
            "Impact better indicator than effectiveness\n",
            "Probability that the label is true: 21.06%\n",
            "Data Difficulty to understand\n",
            "Probability that the label is true: 15.96%\n",
            "Understand difference impact vs effectiveness\n",
            "Probability that the label is true: 31.96%\n",
            "Reactions to lack of herd immunity\n",
            "Probability that the label is true: 34.88%\n",
            "Lack of herd immunity is acceptable\n",
            "Probability that the label is true: 1.08%\n",
            "Lack of herd immunity is a concern\n",
            "Probability that the label is true: 67.10%\n",
            "Uncertainty on booster dosage\n",
            "Probability that the label is true: 49.59%\n",
            "Need for local RWE programs\n",
            "Probability that the label is true: 61.85%\n",
            "Reactions to Australian Carriage Data\n",
            "Probability that the label is true: 8.43%\n",
            "MATS concept\n",
            "Probability that the label is true: 13.92%\n",
            "More data needed\n",
            "Probability that the label is true: 68.52%\n",
            "May Label Update\n",
            "Probability that the label is true: 53.74%\n",
            "Asking for articles / education materials\n",
            "Probability that the label is true: 14.95%\n",
            "Raising the need for education (Patients/parents/HCPs)\n",
            "Probability that the label is true: 5.98%\n",
            "Safety / AE\n",
            "Probability that the label is true: 16.56%\n",
            "Thermostability/ Cold chain breach\n",
            "Probability that the label is true: 1.83%\n",
            "Co-adminstration\n",
            "Probability that the label is true: 7.50%\n",
            "Administration site/route\n",
            "Probability that the label is true: 9.34%\n",
            "Dosing schedule/ Intervals between dosages\n",
            "Probability that the label is true: 17.88%\n",
            "2+1 vs. 3+1 schedule\n",
            "Probability that the label is true: 40.79%\n",
            "Duration of immunity / immuno persistence\n",
            "Probability that the label is true: 19.12%\n",
            "Administration after expiration/ open package\n",
            "Probability that the label is true: 16.41%\n",
            "Access / Reimbursement\n",
            "Probability that the label is true: 1.77%\n",
            "Specific patient populations\n",
            "Probability that the label is true: 44.53%\n",
            "Extend vaccination to other cohorts\n",
            "Probability that the label is true: 69.20%\n",
            "Bexsero vs. Trumenba\n",
            "Probability that the label is true: 5.90%\n",
            "Vaccine content / ingredients\n",
            "Probability that the label is true: 11.62%\n",
            "Other\n",
            "Probability that the label is true: 43.39%\n",
            "COVID impact?\n",
            "Probability that the label is true: 25.80%\n"
          ],
          "name": "stdout"
        }
      ]
    },
    {
      "cell_type": "markdown",
      "metadata": {
        "id": "jwXSg464flMJ",
        "colab_type": "text"
      },
      "source": [
        "In the paper, the authors report a label-weighted F1 of $37.9$ on Yahoo Answers  using the smallest version of BERT fine-tuned only on the Multi-genre NLI (MNLI) corpus. By simply using the larger and more recent Bart model pre-trained on MNLI, we were able to bring this number up to $53.7$."
      ]
    },
    {
      "cell_type": "markdown",
      "metadata": {
        "id": "CHCjFDWK_AcY",
        "colab_type": "text"
      },
      "source": [
        "See [our live demo here](http://35.208.71.201:8000/) to try it out for yourself! Enter a sequence you want to classify and any labels of interest and watch Bart do its magic in real time.\n",
        "\n",
        "![live demo](https://joeddav.github.io/blog/images/zsl/zsl-demo-screenshot.png)"
      ]
    },
    {
      "cell_type": "markdown",
      "metadata": {
        "id": "SnTbN9PjkFO5",
        "colab_type": "text"
      },
      "source": [
        "### When some annotated data is available\n",
        "\n",
        "Fine-tuning this model on a small number of annotated data points is not effective, so it is not particularly amenable to the few-shot setting. However, in the traditional zero-shot setting where we have sufficient data for a limited number of classes, this model excels. Training can be done by passing a sequence through the model twice: once with the the correct label and once with a randomly selected false label, optimizing cross-entropy.\n",
        "\n",
        "One problem that arises after fine-tuning is that the model predicts a much higher probability for labels it has seen than for those it has not. To mitigate this issue, the authors introduce a procedure that penalizes labels at test time which were seen at training time. See [the paper](https://www.aclweb.org/anthology/D19-1404/) for full details.\n",
        "\n",
        "Check out [our demo](http://35.208.71.201:8000/) to try out a version of this model fine-tuned on Yahoo Answers. You can also find the authors' GitHub repo [here](https://github.com/yinwenpeng/BenchmarkingZeroShot)."
      ]
    },
    {
      "cell_type": "markdown",
      "metadata": {
        "id": "f2hsogtMI2VG",
        "colab_type": "text"
      },
      "source": [
        "## Classification as a cloze task"
      ]
    },
    {
      "cell_type": "markdown",
      "metadata": {
        "id": "Zt-ElF9rJawI",
        "colab_type": "text"
      },
      "source": [
        "One in-the-works approach to keep your eye on is a preprint on Pattern-Exploiting Training (PET) from [Schick et al. (2020)](https://arxiv.org/abs/2001.07676). In this paper, the authors reformulate text classification as a cloze task. A cloze question considers a sequence which is partially masked and requires predicting the missing value(s) from the context. PET requires a human practitioner to construct several task-appropriate cloze-style templates which, in the case of topic classification, could look something like the following:"
      ]
    },
    {
      "cell_type": "markdown",
      "metadata": {
        "id": "pFninvJSQ-KV",
        "colab_type": "text"
      },
      "source": [
        "![cloze examples](https://joeddav.github.io/blog/images/zsl/cloze.png \"examples of cloze templates for topic classification. a and b are the question and answers in the case of Yahoo Answers and ____ is the class name which the model must predict.\")"
      ]
    },
    {
      "cell_type": "markdown",
      "metadata": {
        "id": "Tpd_CjpnRfkS",
        "colab_type": "text"
      },
      "source": [
        "A pre-trained masked language model is then tasked with choosing the most likely value for the masked (blank) word from among the possible class names for each cloze sentence."
      ]
    },
    {
      "cell_type": "markdown",
      "metadata": {
        "id": "YAwpt7DAU_RS",
        "colab_type": "text"
      },
      "source": [
        "The result is a set of noisy class predictions for each data point. This process alone serves as a basic zero-shot classifier. In addition, the authors introduce a sort of knowledge distilation procedure. After generating a set of predictions from the cloze task, these predicted values are used as _proxy labels_ on which a new classifier is trained from scratch. My intuition is that this step is effective because it allows us to do inference over the whole test set collectively, allowing the model to learn from the set over which it is predicting rather than treating each test point independently. I suspect that this step would be particularly helpful when adapting to novel domains which do not resemble the MLM's training corpus."
      ]
    },
    {
      "cell_type": "markdown",
      "metadata": {
        "id": "vZv6B8q6a0f-",
        "colab_type": "text"
      },
      "source": [
        "In the most recent version of their paper, the authors also discuss an iterative self-training procedure on top of PET which reports an impressive accuracy of $70.7\\%$ on Yahoo Answers, which nearly approaches the performance of state-of-the-art supervised classification methods."
      ]
    },
    {
      "cell_type": "markdown",
      "metadata": {
        "id": "WJe7vomM9WTi",
        "colab_type": "text"
      },
      "source": [
        "This brings me back to my earlier point about considering experimental parameters when comparing different methods. Although PET significantly outperforms the other methods described here, it also makes use of data which the other approaches do not assume access to: multiple task-specific, hand-crafted cloze sentences and a large set of unlabeled data for the distilation/self-learning step. I say this not to knock PET by any means, nor do the authors compare themselves to the methods I've outlined here, but simply to emphasize the importance of taking care in comparing different approaches which can all be considered, in some sense, \"zero-shot\"."
      ]
    },
    {
      "cell_type": "markdown",
      "metadata": {
        "id": "1XTqUTxYHKvP",
        "colab_type": "text"
      },
      "source": [
        "### When some annotated data is available\n",
        "\n",
        "The authors present a well-developed method for using PET in the case where some training data is available, effectively minimizing a joint loss between optimizing cloze predictions for any available training data and the standard MLM loss. The details are somewhat inovlved, so if you're interested I highly recommend checking out their [preprint](https://arxiv.org/abs/2001.07676), [YouTube tutorial](https://www.youtube.com/watch?v=01jRE9noSWw), or [GitHub repo](https://github.com/timoschick/pet)."
      ]
    },
    {
      "cell_type": "markdown",
      "metadata": {
        "id": "a9KRVNU9r0XB",
        "colab_type": "text"
      },
      "source": [
        "## On low-resource languages"
      ]
    },
    {
      "cell_type": "markdown",
      "metadata": {
        "id": "YChK2nuVr28X",
        "colab_type": "text"
      },
      "source": [
        "One extremely important data-scarse setting in NLP is in low-resource languages. Fortunately, it's a very active research area and much has been written about it. For those interested in this area, I'd highly recommend checking Graham Neubig's recently released [Low Resource NLP Bootcamp](https://github.com/neubig/lowresource-nlp-bootcamp-2020). This is a fantastic resource in the form of a GitHub repo containing 8 lectures (plus exercises) focused on NLP in data-scarse languages. Additionally, I'd recommend check out Sebastian Ruder's writings including, [\"A survey of cross-lingual word embedding models\"](https://ruder.io/cross-lingual-embeddings/).\n",
        "\n"
      ]
    }
  ]
}